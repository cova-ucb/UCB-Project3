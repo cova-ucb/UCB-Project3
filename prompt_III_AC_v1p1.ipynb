{
 "cells": [
  {
   "cell_type": "markdown",
   "metadata": {},
   "source": [
    "# Practical Application III: Comparing Classifiers\n",
    "\n",
    "**Overview**: In this practical application, your goal is to compare the performance of the classifiers we encountered in this section, namely K Nearest Neighbor, Logistic Regression, Decision Trees, and Support Vector Machines.  We will utilize a dataset related to marketing bank products over the telephone.  \n",
    "\n"
   ]
  },
  {
   "cell_type": "markdown",
   "metadata": {},
   "source": [
    "### Getting Started\n",
    "\n",
    "Our dataset comes from the UCI Machine Learning repository [link](https://archive.ics.uci.edu/ml/datasets/bank+marketing).  The data is from a Portugese banking institution and is a collection of the results of multiple marketing campaigns.  We will make use of the article accompanying the dataset [here](CRISP-DM-BANK.pdf) for more information on the data and features.\n"
   ]
  },
  {
   "cell_type": "markdown",
   "metadata": {},
   "source": [
    "### Problem 1: Understanding the Data\n",
    "\n",
    "To gain a better understanding of the data, please read the information provided in the UCI link above, and examine the **Materials and Methods** section of the paper.  How many marketing campaigns does this data represent?"
   ]
  },
  {
   "cell_type": "markdown",
   "metadata": {},
   "source": [
    "##### Answer: The dataset reflects data collected for 17 marketing campaigns that took place between May 2008 and November 2010.  \n"
   ]
  },
  {
   "cell_type": "markdown",
   "metadata": {},
   "source": [
    "### Problem 2: Read in the Data\n",
    "\n",
    "Use pandas to read in the dataset `bank-additional-full.csv` and assign to a meaningful variable name."
   ]
  },
  {
   "cell_type": "code",
   "execution_count": 1,
   "metadata": {},
   "outputs": [],
   "source": [
    "import pandas as pd"
   ]
  },
  {
   "cell_type": "code",
   "execution_count": 2,
   "metadata": {},
   "outputs": [],
   "source": [
    "df = pd.read_csv('data/bank-additional-full.csv', sep = ';')"
   ]
  },
  {
   "cell_type": "code",
   "execution_count": 3,
   "metadata": {},
   "outputs": [
    {
     "data": {
      "text/html": [
       "<div>\n",
       "<style scoped>\n",
       "    .dataframe tbody tr th:only-of-type {\n",
       "        vertical-align: middle;\n",
       "    }\n",
       "\n",
       "    .dataframe tbody tr th {\n",
       "        vertical-align: top;\n",
       "    }\n",
       "\n",
       "    .dataframe thead th {\n",
       "        text-align: right;\n",
       "    }\n",
       "</style>\n",
       "<table border=\"1\" class=\"dataframe\">\n",
       "  <thead>\n",
       "    <tr style=\"text-align: right;\">\n",
       "      <th></th>\n",
       "      <th>age</th>\n",
       "      <th>job</th>\n",
       "      <th>marital</th>\n",
       "      <th>education</th>\n",
       "      <th>default</th>\n",
       "      <th>housing</th>\n",
       "      <th>loan</th>\n",
       "      <th>contact</th>\n",
       "      <th>month</th>\n",
       "      <th>day_of_week</th>\n",
       "      <th>...</th>\n",
       "      <th>campaign</th>\n",
       "      <th>pdays</th>\n",
       "      <th>previous</th>\n",
       "      <th>poutcome</th>\n",
       "      <th>emp.var.rate</th>\n",
       "      <th>cons.price.idx</th>\n",
       "      <th>cons.conf.idx</th>\n",
       "      <th>euribor3m</th>\n",
       "      <th>nr.employed</th>\n",
       "      <th>y</th>\n",
       "    </tr>\n",
       "  </thead>\n",
       "  <tbody>\n",
       "    <tr>\n",
       "      <th>0</th>\n",
       "      <td>56</td>\n",
       "      <td>housemaid</td>\n",
       "      <td>married</td>\n",
       "      <td>basic.4y</td>\n",
       "      <td>no</td>\n",
       "      <td>no</td>\n",
       "      <td>no</td>\n",
       "      <td>telephone</td>\n",
       "      <td>may</td>\n",
       "      <td>mon</td>\n",
       "      <td>...</td>\n",
       "      <td>1</td>\n",
       "      <td>999</td>\n",
       "      <td>0</td>\n",
       "      <td>nonexistent</td>\n",
       "      <td>1.1</td>\n",
       "      <td>93.994</td>\n",
       "      <td>-36.4</td>\n",
       "      <td>4.857</td>\n",
       "      <td>5191.0</td>\n",
       "      <td>no</td>\n",
       "    </tr>\n",
       "    <tr>\n",
       "      <th>1</th>\n",
       "      <td>57</td>\n",
       "      <td>services</td>\n",
       "      <td>married</td>\n",
       "      <td>high.school</td>\n",
       "      <td>unknown</td>\n",
       "      <td>no</td>\n",
       "      <td>no</td>\n",
       "      <td>telephone</td>\n",
       "      <td>may</td>\n",
       "      <td>mon</td>\n",
       "      <td>...</td>\n",
       "      <td>1</td>\n",
       "      <td>999</td>\n",
       "      <td>0</td>\n",
       "      <td>nonexistent</td>\n",
       "      <td>1.1</td>\n",
       "      <td>93.994</td>\n",
       "      <td>-36.4</td>\n",
       "      <td>4.857</td>\n",
       "      <td>5191.0</td>\n",
       "      <td>no</td>\n",
       "    </tr>\n",
       "    <tr>\n",
       "      <th>2</th>\n",
       "      <td>37</td>\n",
       "      <td>services</td>\n",
       "      <td>married</td>\n",
       "      <td>high.school</td>\n",
       "      <td>no</td>\n",
       "      <td>yes</td>\n",
       "      <td>no</td>\n",
       "      <td>telephone</td>\n",
       "      <td>may</td>\n",
       "      <td>mon</td>\n",
       "      <td>...</td>\n",
       "      <td>1</td>\n",
       "      <td>999</td>\n",
       "      <td>0</td>\n",
       "      <td>nonexistent</td>\n",
       "      <td>1.1</td>\n",
       "      <td>93.994</td>\n",
       "      <td>-36.4</td>\n",
       "      <td>4.857</td>\n",
       "      <td>5191.0</td>\n",
       "      <td>no</td>\n",
       "    </tr>\n",
       "    <tr>\n",
       "      <th>3</th>\n",
       "      <td>40</td>\n",
       "      <td>admin.</td>\n",
       "      <td>married</td>\n",
       "      <td>basic.6y</td>\n",
       "      <td>no</td>\n",
       "      <td>no</td>\n",
       "      <td>no</td>\n",
       "      <td>telephone</td>\n",
       "      <td>may</td>\n",
       "      <td>mon</td>\n",
       "      <td>...</td>\n",
       "      <td>1</td>\n",
       "      <td>999</td>\n",
       "      <td>0</td>\n",
       "      <td>nonexistent</td>\n",
       "      <td>1.1</td>\n",
       "      <td>93.994</td>\n",
       "      <td>-36.4</td>\n",
       "      <td>4.857</td>\n",
       "      <td>5191.0</td>\n",
       "      <td>no</td>\n",
       "    </tr>\n",
       "    <tr>\n",
       "      <th>4</th>\n",
       "      <td>56</td>\n",
       "      <td>services</td>\n",
       "      <td>married</td>\n",
       "      <td>high.school</td>\n",
       "      <td>no</td>\n",
       "      <td>no</td>\n",
       "      <td>yes</td>\n",
       "      <td>telephone</td>\n",
       "      <td>may</td>\n",
       "      <td>mon</td>\n",
       "      <td>...</td>\n",
       "      <td>1</td>\n",
       "      <td>999</td>\n",
       "      <td>0</td>\n",
       "      <td>nonexistent</td>\n",
       "      <td>1.1</td>\n",
       "      <td>93.994</td>\n",
       "      <td>-36.4</td>\n",
       "      <td>4.857</td>\n",
       "      <td>5191.0</td>\n",
       "      <td>no</td>\n",
       "    </tr>\n",
       "  </tbody>\n",
       "</table>\n",
       "<p>5 rows × 21 columns</p>\n",
       "</div>"
      ],
      "text/plain": [
       "   age        job  marital    education  default housing loan    contact  \\\n",
       "0   56  housemaid  married     basic.4y       no      no   no  telephone   \n",
       "1   57   services  married  high.school  unknown      no   no  telephone   \n",
       "2   37   services  married  high.school       no     yes   no  telephone   \n",
       "3   40     admin.  married     basic.6y       no      no   no  telephone   \n",
       "4   56   services  married  high.school       no      no  yes  telephone   \n",
       "\n",
       "  month day_of_week  ...  campaign  pdays  previous     poutcome emp.var.rate  \\\n",
       "0   may         mon  ...         1    999         0  nonexistent          1.1   \n",
       "1   may         mon  ...         1    999         0  nonexistent          1.1   \n",
       "2   may         mon  ...         1    999         0  nonexistent          1.1   \n",
       "3   may         mon  ...         1    999         0  nonexistent          1.1   \n",
       "4   may         mon  ...         1    999         0  nonexistent          1.1   \n",
       "\n",
       "   cons.price.idx  cons.conf.idx  euribor3m  nr.employed   y  \n",
       "0          93.994          -36.4      4.857       5191.0  no  \n",
       "1          93.994          -36.4      4.857       5191.0  no  \n",
       "2          93.994          -36.4      4.857       5191.0  no  \n",
       "3          93.994          -36.4      4.857       5191.0  no  \n",
       "4          93.994          -36.4      4.857       5191.0  no  \n",
       "\n",
       "[5 rows x 21 columns]"
      ]
     },
     "execution_count": 3,
     "metadata": {},
     "output_type": "execute_result"
    }
   ],
   "source": [
    "df.head()"
   ]
  },
  {
   "cell_type": "markdown",
   "metadata": {},
   "source": [
    "### Problem 3: Understanding the Features\n",
    "\n",
    "\n",
    "Examine the data description below, and determine if any of the features are missing values or need to be coerced to a different data type.\n",
    "\n",
    "\n",
    "```\n",
    "Input variables:\n",
    "# bank client data:\n",
    "1 - age (numeric)\n",
    "2 - job : type of job (categorical: 'admin.','blue-collar','entrepreneur','housemaid','management','retired','self-employed','services','student','technician','unemployed','unknown')\n",
    "3 - marital : marital status (categorical: 'divorced','married','single','unknown'; note: 'divorced' means divorced or widowed)\n",
    "4 - education (categorical: 'basic.4y','basic.6y','basic.9y','high.school','illiterate','professional.course','university.degree','unknown')\n",
    "5 - default: has credit in default? (categorical: 'no','yes','unknown')\n",
    "6 - housing: has housing loan? (categorical: 'no','yes','unknown')\n",
    "7 - loan: has personal loan? (categorical: 'no','yes','unknown')\n",
    "# related with the last contact of the current campaign:\n",
    "8 - contact: contact communication type (categorical: 'cellular','telephone')\n",
    "9 - month: last contact month of year (categorical: 'jan', 'feb', 'mar', ..., 'nov', 'dec')\n",
    "10 - day_of_week: last contact day of the week (categorical: 'mon','tue','wed','thu','fri')\n",
    "11 - duration: last contact duration, in seconds (numeric). Important note: this attribute highly affects the output target (e.g., if duration=0 then y='no'). Yet, the duration is not known before a call is performed. Also, after the end of the call y is obviously known. Thus, this input should only be included for benchmark purposes and should be discarded if the intention is to have a realistic predictive model.\n",
    "# other attributes:\n",
    "12 - campaign: number of contacts performed during this campaign and for this client (numeric, includes last contact)\n",
    "13 - pdays: number of days that passed by after the client was last contacted from a previous campaign (numeric; 999 means client was not previously contacted)\n",
    "14 - previous: number of contacts performed before this campaign and for this client (numeric)\n",
    "15 - poutcome: outcome of the previous marketing campaign (categorical: 'failure','nonexistent','success')\n",
    "# social and economic context attributes\n",
    "16 - emp.var.rate: employment variation rate - quarterly indicator (numeric)\n",
    "17 - cons.price.idx: consumer price index - monthly indicator (numeric)\n",
    "18 - cons.conf.idx: consumer confidence index - monthly indicator (numeric)\n",
    "19 - euribor3m: euribor 3 month rate - daily indicator (numeric)\n",
    "20 - nr.employed: number of employees - quarterly indicator (numeric)\n",
    "\n",
    "Output variable (desired target):\n",
    "21 - y - has the client subscribed a term deposit? (binary: 'yes','no')\n",
    "```\n",
    "\n"
   ]
  },
  {
   "cell_type": "code",
   "execution_count": 4,
   "metadata": {},
   "outputs": [
    {
     "data": {
      "text/plain": [
       "age               0\n",
       "job               0\n",
       "marital           0\n",
       "education         0\n",
       "default           0\n",
       "housing           0\n",
       "loan              0\n",
       "contact           0\n",
       "month             0\n",
       "day_of_week       0\n",
       "duration          0\n",
       "campaign          0\n",
       "pdays             0\n",
       "previous          0\n",
       "poutcome          0\n",
       "emp.var.rate      0\n",
       "cons.price.idx    0\n",
       "cons.conf.idx     0\n",
       "euribor3m         0\n",
       "nr.employed       0\n",
       "y                 0\n",
       "dtype: int64"
      ]
     },
     "execution_count": 4,
     "metadata": {},
     "output_type": "execute_result"
    }
   ],
   "source": [
    "# Determination of missing values\n",
    "df.isnull().sum()"
   ]
  },
  {
   "cell_type": "markdown",
   "metadata": {},
   "source": [
    "##### Answer: There are no missing values in the dataset"
   ]
  },
  {
   "cell_type": "markdown",
   "metadata": {},
   "source": [
    "##### Identified features and gruped them "
   ]
  },
  {
   "cell_type": "code",
   "execution_count": 5,
   "metadata": {},
   "outputs": [],
   "source": [
    "# Feature understanding - Identified categorical features\n",
    "categorical_cols = ['job','marital','education', 'default', 'housing', 'loan', 'contact', 'month', 'day_of_week', 'poutcome']\n",
    "\n",
    "# Feature understanding - Identified numerical features\n",
    "# Note 'duration' is dropped as duration data is not consistent and its inclusion would be detrimental to model predictive quality. Note that 'emp.var.rate' and 'nr.employed' are dropped as well\n",
    "# as these quarterly indicators should not influence the customer decision to open/or not a deposit account\n",
    "numeric_cols = ['age', 'campaign', 'pdays', 'previous','cons.price.idx','cons.conf.idx','euribor3m']"
   ]
  },
  {
   "cell_type": "code",
   "execution_count": null,
   "metadata": {},
   "outputs": [],
   "source": []
  },
  {
   "cell_type": "markdown",
   "metadata": {},
   "source": [
    "### Problem 4: Understanding the Task\n",
    "\n",
    "After examining the description and data, your goal now is to clearly state the *Business Objective* of the task.  State the objective below."
   ]
  },
  {
   "cell_type": "markdown",
   "metadata": {},
   "source": [
    "##### Answer: The business objective of the task is to develop a quantitative classification model that can be used to increase the efficacy (number of new deposits subscribed by customers) and efficency (assign the right mix of resourcess and efforts to minimize cost) of bank marketing campaigns by explaining the success of marketing contacts.\n"
   ]
  },
  {
   "cell_type": "code",
   "execution_count": 6,
   "metadata": {},
   "outputs": [
    {
     "data": {
      "text/html": [
       "<div>\n",
       "<style scoped>\n",
       "    .dataframe tbody tr th:only-of-type {\n",
       "        vertical-align: middle;\n",
       "    }\n",
       "\n",
       "    .dataframe tbody tr th {\n",
       "        vertical-align: top;\n",
       "    }\n",
       "\n",
       "    .dataframe thead th {\n",
       "        text-align: right;\n",
       "    }\n",
       "</style>\n",
       "<table border=\"1\" class=\"dataframe\">\n",
       "  <thead>\n",
       "    <tr style=\"text-align: right;\">\n",
       "      <th></th>\n",
       "      <th>age</th>\n",
       "      <th>job</th>\n",
       "      <th>marital</th>\n",
       "      <th>education</th>\n",
       "      <th>default</th>\n",
       "      <th>housing</th>\n",
       "      <th>loan</th>\n",
       "      <th>contact</th>\n",
       "      <th>month</th>\n",
       "      <th>day_of_week</th>\n",
       "      <th>...</th>\n",
       "      <th>campaign</th>\n",
       "      <th>pdays</th>\n",
       "      <th>previous</th>\n",
       "      <th>poutcome</th>\n",
       "      <th>emp.var.rate</th>\n",
       "      <th>cons.price.idx</th>\n",
       "      <th>cons.conf.idx</th>\n",
       "      <th>euribor3m</th>\n",
       "      <th>nr.employed</th>\n",
       "      <th>y</th>\n",
       "    </tr>\n",
       "  </thead>\n",
       "  <tbody>\n",
       "    <tr>\n",
       "      <th>0</th>\n",
       "      <td>56</td>\n",
       "      <td>housemaid</td>\n",
       "      <td>married</td>\n",
       "      <td>basic.4y</td>\n",
       "      <td>no</td>\n",
       "      <td>no</td>\n",
       "      <td>no</td>\n",
       "      <td>telephone</td>\n",
       "      <td>may</td>\n",
       "      <td>mon</td>\n",
       "      <td>...</td>\n",
       "      <td>1</td>\n",
       "      <td>999</td>\n",
       "      <td>0</td>\n",
       "      <td>nonexistent</td>\n",
       "      <td>1.1</td>\n",
       "      <td>93.994</td>\n",
       "      <td>-36.4</td>\n",
       "      <td>4.857</td>\n",
       "      <td>5191.0</td>\n",
       "      <td>no</td>\n",
       "    </tr>\n",
       "    <tr>\n",
       "      <th>1</th>\n",
       "      <td>57</td>\n",
       "      <td>services</td>\n",
       "      <td>married</td>\n",
       "      <td>high.school</td>\n",
       "      <td>unknown</td>\n",
       "      <td>no</td>\n",
       "      <td>no</td>\n",
       "      <td>telephone</td>\n",
       "      <td>may</td>\n",
       "      <td>mon</td>\n",
       "      <td>...</td>\n",
       "      <td>1</td>\n",
       "      <td>999</td>\n",
       "      <td>0</td>\n",
       "      <td>nonexistent</td>\n",
       "      <td>1.1</td>\n",
       "      <td>93.994</td>\n",
       "      <td>-36.4</td>\n",
       "      <td>4.857</td>\n",
       "      <td>5191.0</td>\n",
       "      <td>no</td>\n",
       "    </tr>\n",
       "    <tr>\n",
       "      <th>2</th>\n",
       "      <td>37</td>\n",
       "      <td>services</td>\n",
       "      <td>married</td>\n",
       "      <td>high.school</td>\n",
       "      <td>no</td>\n",
       "      <td>yes</td>\n",
       "      <td>no</td>\n",
       "      <td>telephone</td>\n",
       "      <td>may</td>\n",
       "      <td>mon</td>\n",
       "      <td>...</td>\n",
       "      <td>1</td>\n",
       "      <td>999</td>\n",
       "      <td>0</td>\n",
       "      <td>nonexistent</td>\n",
       "      <td>1.1</td>\n",
       "      <td>93.994</td>\n",
       "      <td>-36.4</td>\n",
       "      <td>4.857</td>\n",
       "      <td>5191.0</td>\n",
       "      <td>no</td>\n",
       "    </tr>\n",
       "    <tr>\n",
       "      <th>3</th>\n",
       "      <td>40</td>\n",
       "      <td>admin.</td>\n",
       "      <td>married</td>\n",
       "      <td>basic.6y</td>\n",
       "      <td>no</td>\n",
       "      <td>no</td>\n",
       "      <td>no</td>\n",
       "      <td>telephone</td>\n",
       "      <td>may</td>\n",
       "      <td>mon</td>\n",
       "      <td>...</td>\n",
       "      <td>1</td>\n",
       "      <td>999</td>\n",
       "      <td>0</td>\n",
       "      <td>nonexistent</td>\n",
       "      <td>1.1</td>\n",
       "      <td>93.994</td>\n",
       "      <td>-36.4</td>\n",
       "      <td>4.857</td>\n",
       "      <td>5191.0</td>\n",
       "      <td>no</td>\n",
       "    </tr>\n",
       "    <tr>\n",
       "      <th>4</th>\n",
       "      <td>56</td>\n",
       "      <td>services</td>\n",
       "      <td>married</td>\n",
       "      <td>high.school</td>\n",
       "      <td>no</td>\n",
       "      <td>no</td>\n",
       "      <td>yes</td>\n",
       "      <td>telephone</td>\n",
       "      <td>may</td>\n",
       "      <td>mon</td>\n",
       "      <td>...</td>\n",
       "      <td>1</td>\n",
       "      <td>999</td>\n",
       "      <td>0</td>\n",
       "      <td>nonexistent</td>\n",
       "      <td>1.1</td>\n",
       "      <td>93.994</td>\n",
       "      <td>-36.4</td>\n",
       "      <td>4.857</td>\n",
       "      <td>5191.0</td>\n",
       "      <td>no</td>\n",
       "    </tr>\n",
       "  </tbody>\n",
       "</table>\n",
       "<p>5 rows × 21 columns</p>\n",
       "</div>"
      ],
      "text/plain": [
       "   age        job  marital    education  default housing loan    contact  \\\n",
       "0   56  housemaid  married     basic.4y       no      no   no  telephone   \n",
       "1   57   services  married  high.school  unknown      no   no  telephone   \n",
       "2   37   services  married  high.school       no     yes   no  telephone   \n",
       "3   40     admin.  married     basic.6y       no      no   no  telephone   \n",
       "4   56   services  married  high.school       no      no  yes  telephone   \n",
       "\n",
       "  month day_of_week  ...  campaign  pdays  previous     poutcome emp.var.rate  \\\n",
       "0   may         mon  ...         1    999         0  nonexistent          1.1   \n",
       "1   may         mon  ...         1    999         0  nonexistent          1.1   \n",
       "2   may         mon  ...         1    999         0  nonexistent          1.1   \n",
       "3   may         mon  ...         1    999         0  nonexistent          1.1   \n",
       "4   may         mon  ...         1    999         0  nonexistent          1.1   \n",
       "\n",
       "   cons.price.idx  cons.conf.idx  euribor3m  nr.employed   y  \n",
       "0          93.994          -36.4      4.857       5191.0  no  \n",
       "1          93.994          -36.4      4.857       5191.0  no  \n",
       "2          93.994          -36.4      4.857       5191.0  no  \n",
       "3          93.994          -36.4      4.857       5191.0  no  \n",
       "4          93.994          -36.4      4.857       5191.0  no  \n",
       "\n",
       "[5 rows x 21 columns]"
      ]
     },
     "execution_count": 6,
     "metadata": {},
     "output_type": "execute_result"
    }
   ],
   "source": [
    "df.head()"
   ]
  },
  {
   "cell_type": "code",
   "execution_count": 7,
   "metadata": {},
   "outputs": [
    {
     "name": "stdout",
     "output_type": "stream",
     "text": [
      "<class 'pandas.core.frame.DataFrame'>\n",
      "RangeIndex: 41188 entries, 0 to 41187\n",
      "Data columns (total 21 columns):\n",
      " #   Column          Non-Null Count  Dtype  \n",
      "---  ------          --------------  -----  \n",
      " 0   age             41188 non-null  int64  \n",
      " 1   job             41188 non-null  object \n",
      " 2   marital         41188 non-null  object \n",
      " 3   education       41188 non-null  object \n",
      " 4   default         41188 non-null  object \n",
      " 5   housing         41188 non-null  object \n",
      " 6   loan            41188 non-null  object \n",
      " 7   contact         41188 non-null  object \n",
      " 8   month           41188 non-null  object \n",
      " 9   day_of_week     41188 non-null  object \n",
      " 10  duration        41188 non-null  int64  \n",
      " 11  campaign        41188 non-null  int64  \n",
      " 12  pdays           41188 non-null  int64  \n",
      " 13  previous        41188 non-null  int64  \n",
      " 14  poutcome        41188 non-null  object \n",
      " 15  emp.var.rate    41188 non-null  float64\n",
      " 16  cons.price.idx  41188 non-null  float64\n",
      " 17  cons.conf.idx   41188 non-null  float64\n",
      " 18  euribor3m       41188 non-null  float64\n",
      " 19  nr.employed     41188 non-null  float64\n",
      " 20  y               41188 non-null  object \n",
      "dtypes: float64(5), int64(5), object(11)\n",
      "memory usage: 6.6+ MB\n"
     ]
    }
   ],
   "source": [
    "df.info()"
   ]
  },
  {
   "cell_type": "code",
   "execution_count": null,
   "metadata": {},
   "outputs": [],
   "source": []
  },
  {
   "cell_type": "markdown",
   "metadata": {},
   "source": [
    "### Problem 5: Engineering Features\n",
    "\n",
    "Now that you understand your business objective, we will build a basic model to get started.  Before we can do this, we must work to encode the data.  Using just the bank information features, prepare the features and target column for modeling with appropriate encoding and transformations."
   ]
  },
  {
   "cell_type": "code",
   "execution_count": 8,
   "metadata": {},
   "outputs": [],
   "source": [
    "# Import libraries to perform feature and model analysis\n",
    "import numpy as np\n",
    "import matplotlib.pyplot as plt\n",
    "import seaborn as sns\n",
    "import time\n",
    "\n",
    "from sklearn.dummy import DummyClassifier\n",
    "from sklearn.model_selection import train_test_split,cross_validate, GridSearchCV, StratifiedKFold\n",
    "from sklearn.preprocessing import StandardScaler, MinMaxScaler, RobustScaler, LabelEncoder, OneHotEncoder\n",
    "\n",
    "from sklearn.linear_model import LogisticRegression\n",
    "from sklearn.neighbors import KNeighborsClassifier\n",
    "from sklearn.svm import SVC\n",
    "from sklearn.tree import DecisionTreeClassifier\n",
    "from sklearn.pipeline import Pipeline\n",
    "\n",
    "from sklearn.metrics import accuracy_score, recall_score, precision_score, f1_score, log_loss\n",
    "from sklearn.metrics import confusion_matrix, classification_report, ConfusionMatrixDisplay\n",
    "from sklearn.metrics import RocCurveDisplay, PrecisionRecallDisplay, roc_auc_score, auc, roc_curve, average_precision_score, precision_recall_curve\n"
   ]
  },
  {
   "cell_type": "code",
   "execution_count": 9,
   "metadata": {},
   "outputs": [],
   "source": [
    "# Select model features before scaling/encoding\n",
    "X = df.drop(['y','duration','emp.var.rate','nr.employed'], axis=1)\n"
   ]
  },
  {
   "cell_type": "code",
   "execution_count": 10,
   "metadata": {},
   "outputs": [
    {
     "name": "stdout",
     "output_type": "stream",
     "text": [
      "<class 'pandas.core.frame.DataFrame'>\n",
      "RangeIndex: 41188 entries, 0 to 41187\n",
      "Data columns (total 17 columns):\n",
      " #   Column          Non-Null Count  Dtype  \n",
      "---  ------          --------------  -----  \n",
      " 0   age             41188 non-null  int64  \n",
      " 1   job             41188 non-null  object \n",
      " 2   marital         41188 non-null  object \n",
      " 3   education       41188 non-null  object \n",
      " 4   default         41188 non-null  object \n",
      " 5   housing         41188 non-null  object \n",
      " 6   loan            41188 non-null  object \n",
      " 7   contact         41188 non-null  object \n",
      " 8   month           41188 non-null  object \n",
      " 9   day_of_week     41188 non-null  object \n",
      " 10  campaign        41188 non-null  int64  \n",
      " 11  pdays           41188 non-null  int64  \n",
      " 12  previous        41188 non-null  int64  \n",
      " 13  poutcome        41188 non-null  object \n",
      " 14  cons.price.idx  41188 non-null  float64\n",
      " 15  cons.conf.idx   41188 non-null  float64\n",
      " 16  euribor3m       41188 non-null  float64\n",
      "dtypes: float64(3), int64(4), object(10)\n",
      "memory usage: 5.3+ MB\n"
     ]
    }
   ],
   "source": [
    "# Check feature data frame\n",
    "X.info()"
   ]
  },
  {
   "cell_type": "code",
   "execution_count": 11,
   "metadata": {},
   "outputs": [
    {
     "data": {
      "text/html": [
       "<div>\n",
       "<style scoped>\n",
       "    .dataframe tbody tr th:only-of-type {\n",
       "        vertical-align: middle;\n",
       "    }\n",
       "\n",
       "    .dataframe tbody tr th {\n",
       "        vertical-align: top;\n",
       "    }\n",
       "\n",
       "    .dataframe thead th {\n",
       "        text-align: right;\n",
       "    }\n",
       "</style>\n",
       "<table border=\"1\" class=\"dataframe\">\n",
       "  <thead>\n",
       "    <tr style=\"text-align: right;\">\n",
       "      <th></th>\n",
       "      <th>age</th>\n",
       "      <th>campaign</th>\n",
       "      <th>pdays</th>\n",
       "      <th>previous</th>\n",
       "      <th>cons.price.idx</th>\n",
       "      <th>cons.conf.idx</th>\n",
       "      <th>euribor3m</th>\n",
       "    </tr>\n",
       "  </thead>\n",
       "  <tbody>\n",
       "    <tr>\n",
       "      <th>count</th>\n",
       "      <td>41188.00000</td>\n",
       "      <td>41188.000000</td>\n",
       "      <td>41188.000000</td>\n",
       "      <td>41188.000000</td>\n",
       "      <td>41188.000000</td>\n",
       "      <td>41188.000000</td>\n",
       "      <td>41188.000000</td>\n",
       "    </tr>\n",
       "    <tr>\n",
       "      <th>mean</th>\n",
       "      <td>40.02406</td>\n",
       "      <td>2.567593</td>\n",
       "      <td>962.475454</td>\n",
       "      <td>0.172963</td>\n",
       "      <td>93.575664</td>\n",
       "      <td>-40.502600</td>\n",
       "      <td>3.621291</td>\n",
       "    </tr>\n",
       "    <tr>\n",
       "      <th>std</th>\n",
       "      <td>10.42125</td>\n",
       "      <td>2.770014</td>\n",
       "      <td>186.910907</td>\n",
       "      <td>0.494901</td>\n",
       "      <td>0.578840</td>\n",
       "      <td>4.628198</td>\n",
       "      <td>1.734447</td>\n",
       "    </tr>\n",
       "    <tr>\n",
       "      <th>min</th>\n",
       "      <td>17.00000</td>\n",
       "      <td>1.000000</td>\n",
       "      <td>0.000000</td>\n",
       "      <td>0.000000</td>\n",
       "      <td>92.201000</td>\n",
       "      <td>-50.800000</td>\n",
       "      <td>0.634000</td>\n",
       "    </tr>\n",
       "    <tr>\n",
       "      <th>25%</th>\n",
       "      <td>32.00000</td>\n",
       "      <td>1.000000</td>\n",
       "      <td>999.000000</td>\n",
       "      <td>0.000000</td>\n",
       "      <td>93.075000</td>\n",
       "      <td>-42.700000</td>\n",
       "      <td>1.344000</td>\n",
       "    </tr>\n",
       "    <tr>\n",
       "      <th>50%</th>\n",
       "      <td>38.00000</td>\n",
       "      <td>2.000000</td>\n",
       "      <td>999.000000</td>\n",
       "      <td>0.000000</td>\n",
       "      <td>93.749000</td>\n",
       "      <td>-41.800000</td>\n",
       "      <td>4.857000</td>\n",
       "    </tr>\n",
       "    <tr>\n",
       "      <th>75%</th>\n",
       "      <td>47.00000</td>\n",
       "      <td>3.000000</td>\n",
       "      <td>999.000000</td>\n",
       "      <td>0.000000</td>\n",
       "      <td>93.994000</td>\n",
       "      <td>-36.400000</td>\n",
       "      <td>4.961000</td>\n",
       "    </tr>\n",
       "    <tr>\n",
       "      <th>max</th>\n",
       "      <td>98.00000</td>\n",
       "      <td>56.000000</td>\n",
       "      <td>999.000000</td>\n",
       "      <td>7.000000</td>\n",
       "      <td>94.767000</td>\n",
       "      <td>-26.900000</td>\n",
       "      <td>5.045000</td>\n",
       "    </tr>\n",
       "  </tbody>\n",
       "</table>\n",
       "</div>"
      ],
      "text/plain": [
       "               age      campaign         pdays      previous  cons.price.idx  \\\n",
       "count  41188.00000  41188.000000  41188.000000  41188.000000    41188.000000   \n",
       "mean      40.02406      2.567593    962.475454      0.172963       93.575664   \n",
       "std       10.42125      2.770014    186.910907      0.494901        0.578840   \n",
       "min       17.00000      1.000000      0.000000      0.000000       92.201000   \n",
       "25%       32.00000      1.000000    999.000000      0.000000       93.075000   \n",
       "50%       38.00000      2.000000    999.000000      0.000000       93.749000   \n",
       "75%       47.00000      3.000000    999.000000      0.000000       93.994000   \n",
       "max       98.00000     56.000000    999.000000      7.000000       94.767000   \n",
       "\n",
       "       cons.conf.idx     euribor3m  \n",
       "count   41188.000000  41188.000000  \n",
       "mean      -40.502600      3.621291  \n",
       "std         4.628198      1.734447  \n",
       "min       -50.800000      0.634000  \n",
       "25%       -42.700000      1.344000  \n",
       "50%       -41.800000      4.857000  \n",
       "75%       -36.400000      4.961000  \n",
       "max       -26.900000      5.045000  "
      ]
     },
     "execution_count": 11,
     "metadata": {},
     "output_type": "execute_result"
    }
   ],
   "source": [
    "# Summary statistics for numerical features before scaling transformation\n",
    "X.describe()"
   ]
  },
  {
   "cell_type": "code",
   "execution_count": 12,
   "metadata": {},
   "outputs": [
    {
     "data": {
      "text/html": [
       "<div>\n",
       "<style scoped>\n",
       "    .dataframe tbody tr th:only-of-type {\n",
       "        vertical-align: middle;\n",
       "    }\n",
       "\n",
       "    .dataframe tbody tr th {\n",
       "        vertical-align: top;\n",
       "    }\n",
       "\n",
       "    .dataframe thead th {\n",
       "        text-align: right;\n",
       "    }\n",
       "</style>\n",
       "<table border=\"1\" class=\"dataframe\">\n",
       "  <thead>\n",
       "    <tr style=\"text-align: right;\">\n",
       "      <th></th>\n",
       "      <th>age</th>\n",
       "      <th>campaign</th>\n",
       "      <th>pdays</th>\n",
       "      <th>previous</th>\n",
       "      <th>cons.price.idx</th>\n",
       "      <th>cons.conf.idx</th>\n",
       "      <th>euribor3m</th>\n",
       "    </tr>\n",
       "  </thead>\n",
       "  <tbody>\n",
       "    <tr>\n",
       "      <th>count</th>\n",
       "      <td>4.118800e+04</td>\n",
       "      <td>4.118800e+04</td>\n",
       "      <td>4.118800e+04</td>\n",
       "      <td>4.118800e+04</td>\n",
       "      <td>4.118800e+04</td>\n",
       "      <td>4.118800e+04</td>\n",
       "      <td>41188.000000</td>\n",
       "    </tr>\n",
       "    <tr>\n",
       "      <th>mean</th>\n",
       "      <td>-1.880382e-16</td>\n",
       "      <td>-7.590531e-17</td>\n",
       "      <td>-2.580781e-16</td>\n",
       "      <td>5.520386e-18</td>\n",
       "      <td>-3.315820e-14</td>\n",
       "      <td>-1.352495e-16</td>\n",
       "      <td>0.000000</td>\n",
       "    </tr>\n",
       "    <tr>\n",
       "      <th>std</th>\n",
       "      <td>1.000012e+00</td>\n",
       "      <td>1.000012e+00</td>\n",
       "      <td>1.000012e+00</td>\n",
       "      <td>1.000012e+00</td>\n",
       "      <td>1.000012e+00</td>\n",
       "      <td>1.000012e+00</td>\n",
       "      <td>1.000012</td>\n",
       "    </tr>\n",
       "    <tr>\n",
       "      <th>min</th>\n",
       "      <td>-2.209365e+00</td>\n",
       "      <td>-5.659220e-01</td>\n",
       "      <td>-5.149443e+00</td>\n",
       "      <td>-3.494943e-01</td>\n",
       "      <td>-2.374889e+00</td>\n",
       "      <td>-2.224953e+00</td>\n",
       "      <td>-1.722351</td>\n",
       "    </tr>\n",
       "    <tr>\n",
       "      <th>25%</th>\n",
       "      <td>-7.699804e-01</td>\n",
       "      <td>-5.659220e-01</td>\n",
       "      <td>1.954139e-01</td>\n",
       "      <td>-3.494943e-01</td>\n",
       "      <td>-8.649547e-01</td>\n",
       "      <td>-4.747909e-01</td>\n",
       "      <td>-1.312994</td>\n",
       "    </tr>\n",
       "    <tr>\n",
       "      <th>50%</th>\n",
       "      <td>-1.942267e-01</td>\n",
       "      <td>-2.049085e-01</td>\n",
       "      <td>1.954139e-01</td>\n",
       "      <td>-3.494943e-01</td>\n",
       "      <td>2.994571e-01</td>\n",
       "      <td>-2.803284e-01</td>\n",
       "      <td>0.712460</td>\n",
       "    </tr>\n",
       "    <tr>\n",
       "      <th>75%</th>\n",
       "      <td>6.694038e-01</td>\n",
       "      <td>1.561049e-01</td>\n",
       "      <td>1.954139e-01</td>\n",
       "      <td>-3.494943e-01</td>\n",
       "      <td>7.227225e-01</td>\n",
       "      <td>8.864466e-01</td>\n",
       "      <td>0.772422</td>\n",
       "    </tr>\n",
       "    <tr>\n",
       "      <th>max</th>\n",
       "      <td>5.563310e+00</td>\n",
       "      <td>1.928982e+01</td>\n",
       "      <td>1.954139e-01</td>\n",
       "      <td>1.379492e+01</td>\n",
       "      <td>2.058168e+00</td>\n",
       "      <td>2.939106e+00</td>\n",
       "      <td>0.820853</td>\n",
       "    </tr>\n",
       "  </tbody>\n",
       "</table>\n",
       "</div>"
      ],
      "text/plain": [
       "                age      campaign         pdays      previous  cons.price.idx  \\\n",
       "count  4.118800e+04  4.118800e+04  4.118800e+04  4.118800e+04    4.118800e+04   \n",
       "mean  -1.880382e-16 -7.590531e-17 -2.580781e-16  5.520386e-18   -3.315820e-14   \n",
       "std    1.000012e+00  1.000012e+00  1.000012e+00  1.000012e+00    1.000012e+00   \n",
       "min   -2.209365e+00 -5.659220e-01 -5.149443e+00 -3.494943e-01   -2.374889e+00   \n",
       "25%   -7.699804e-01 -5.659220e-01  1.954139e-01 -3.494943e-01   -8.649547e-01   \n",
       "50%   -1.942267e-01 -2.049085e-01  1.954139e-01 -3.494943e-01    2.994571e-01   \n",
       "75%    6.694038e-01  1.561049e-01  1.954139e-01 -3.494943e-01    7.227225e-01   \n",
       "max    5.563310e+00  1.928982e+01  1.954139e-01  1.379492e+01    2.058168e+00   \n",
       "\n",
       "       cons.conf.idx     euribor3m  \n",
       "count   4.118800e+04  41188.000000  \n",
       "mean   -1.352495e-16      0.000000  \n",
       "std     1.000012e+00      1.000012  \n",
       "min    -2.224953e+00     -1.722351  \n",
       "25%    -4.747909e-01     -1.312994  \n",
       "50%    -2.803284e-01      0.712460  \n",
       "75%     8.864466e-01      0.772422  \n",
       "max     2.939106e+00      0.820853  "
      ]
     },
     "execution_count": 12,
     "metadata": {},
     "output_type": "execute_result"
    }
   ],
   "source": [
    "#Standardize numerical features\n",
    "standard_scaler = StandardScaler()\n",
    "X[numeric_cols] = standard_scaler.fit_transform(X[numeric_cols])\n",
    "X.describe()\n"
   ]
  },
  {
   "cell_type": "markdown",
   "metadata": {},
   "source": [
    "##### As expected numeric feature standardization removes the mean (mean ~= 0) and scales to unit variance\n"
   ]
  },
  {
   "cell_type": "code",
   "execution_count": 13,
   "metadata": {},
   "outputs": [
    {
     "data": {
      "text/html": [
       "<div>\n",
       "<style scoped>\n",
       "    .dataframe tbody tr th:only-of-type {\n",
       "        vertical-align: middle;\n",
       "    }\n",
       "\n",
       "    .dataframe tbody tr th {\n",
       "        vertical-align: top;\n",
       "    }\n",
       "\n",
       "    .dataframe thead th {\n",
       "        text-align: right;\n",
       "    }\n",
       "</style>\n",
       "<table border=\"1\" class=\"dataframe\">\n",
       "  <thead>\n",
       "    <tr style=\"text-align: right;\">\n",
       "      <th></th>\n",
       "      <th>age</th>\n",
       "      <th>job</th>\n",
       "      <th>marital</th>\n",
       "      <th>education</th>\n",
       "      <th>default</th>\n",
       "      <th>housing</th>\n",
       "      <th>loan</th>\n",
       "      <th>contact</th>\n",
       "      <th>month</th>\n",
       "      <th>day_of_week</th>\n",
       "      <th>campaign</th>\n",
       "      <th>pdays</th>\n",
       "      <th>previous</th>\n",
       "      <th>poutcome</th>\n",
       "      <th>cons.price.idx</th>\n",
       "      <th>cons.conf.idx</th>\n",
       "      <th>euribor3m</th>\n",
       "    </tr>\n",
       "  </thead>\n",
       "  <tbody>\n",
       "    <tr>\n",
       "      <th>0</th>\n",
       "      <td>1.533034</td>\n",
       "      <td>housemaid</td>\n",
       "      <td>married</td>\n",
       "      <td>basic.4y</td>\n",
       "      <td>no</td>\n",
       "      <td>no</td>\n",
       "      <td>no</td>\n",
       "      <td>telephone</td>\n",
       "      <td>may</td>\n",
       "      <td>mon</td>\n",
       "      <td>-0.565922</td>\n",
       "      <td>0.195414</td>\n",
       "      <td>-0.349494</td>\n",
       "      <td>nonexistent</td>\n",
       "      <td>0.722722</td>\n",
       "      <td>0.886447</td>\n",
       "      <td>0.71246</td>\n",
       "    </tr>\n",
       "    <tr>\n",
       "      <th>1</th>\n",
       "      <td>1.628993</td>\n",
       "      <td>services</td>\n",
       "      <td>married</td>\n",
       "      <td>high.school</td>\n",
       "      <td>unknown</td>\n",
       "      <td>no</td>\n",
       "      <td>no</td>\n",
       "      <td>telephone</td>\n",
       "      <td>may</td>\n",
       "      <td>mon</td>\n",
       "      <td>-0.565922</td>\n",
       "      <td>0.195414</td>\n",
       "      <td>-0.349494</td>\n",
       "      <td>nonexistent</td>\n",
       "      <td>0.722722</td>\n",
       "      <td>0.886447</td>\n",
       "      <td>0.71246</td>\n",
       "    </tr>\n",
       "    <tr>\n",
       "      <th>2</th>\n",
       "      <td>-0.290186</td>\n",
       "      <td>services</td>\n",
       "      <td>married</td>\n",
       "      <td>high.school</td>\n",
       "      <td>no</td>\n",
       "      <td>yes</td>\n",
       "      <td>no</td>\n",
       "      <td>telephone</td>\n",
       "      <td>may</td>\n",
       "      <td>mon</td>\n",
       "      <td>-0.565922</td>\n",
       "      <td>0.195414</td>\n",
       "      <td>-0.349494</td>\n",
       "      <td>nonexistent</td>\n",
       "      <td>0.722722</td>\n",
       "      <td>0.886447</td>\n",
       "      <td>0.71246</td>\n",
       "    </tr>\n",
       "    <tr>\n",
       "      <th>3</th>\n",
       "      <td>-0.002309</td>\n",
       "      <td>admin.</td>\n",
       "      <td>married</td>\n",
       "      <td>basic.6y</td>\n",
       "      <td>no</td>\n",
       "      <td>no</td>\n",
       "      <td>no</td>\n",
       "      <td>telephone</td>\n",
       "      <td>may</td>\n",
       "      <td>mon</td>\n",
       "      <td>-0.565922</td>\n",
       "      <td>0.195414</td>\n",
       "      <td>-0.349494</td>\n",
       "      <td>nonexistent</td>\n",
       "      <td>0.722722</td>\n",
       "      <td>0.886447</td>\n",
       "      <td>0.71246</td>\n",
       "    </tr>\n",
       "    <tr>\n",
       "      <th>4</th>\n",
       "      <td>1.533034</td>\n",
       "      <td>services</td>\n",
       "      <td>married</td>\n",
       "      <td>high.school</td>\n",
       "      <td>no</td>\n",
       "      <td>no</td>\n",
       "      <td>yes</td>\n",
       "      <td>telephone</td>\n",
       "      <td>may</td>\n",
       "      <td>mon</td>\n",
       "      <td>-0.565922</td>\n",
       "      <td>0.195414</td>\n",
       "      <td>-0.349494</td>\n",
       "      <td>nonexistent</td>\n",
       "      <td>0.722722</td>\n",
       "      <td>0.886447</td>\n",
       "      <td>0.71246</td>\n",
       "    </tr>\n",
       "  </tbody>\n",
       "</table>\n",
       "</div>"
      ],
      "text/plain": [
       "        age        job  marital    education  default housing loan    contact  \\\n",
       "0  1.533034  housemaid  married     basic.4y       no      no   no  telephone   \n",
       "1  1.628993   services  married  high.school  unknown      no   no  telephone   \n",
       "2 -0.290186   services  married  high.school       no     yes   no  telephone   \n",
       "3 -0.002309     admin.  married     basic.6y       no      no   no  telephone   \n",
       "4  1.533034   services  married  high.school       no      no  yes  telephone   \n",
       "\n",
       "  month day_of_week  campaign     pdays  previous     poutcome  \\\n",
       "0   may         mon -0.565922  0.195414 -0.349494  nonexistent   \n",
       "1   may         mon -0.565922  0.195414 -0.349494  nonexistent   \n",
       "2   may         mon -0.565922  0.195414 -0.349494  nonexistent   \n",
       "3   may         mon -0.565922  0.195414 -0.349494  nonexistent   \n",
       "4   may         mon -0.565922  0.195414 -0.349494  nonexistent   \n",
       "\n",
       "   cons.price.idx  cons.conf.idx  euribor3m  \n",
       "0        0.722722       0.886447    0.71246  \n",
       "1        0.722722       0.886447    0.71246  \n",
       "2        0.722722       0.886447    0.71246  \n",
       "3        0.722722       0.886447    0.71246  \n",
       "4        0.722722       0.886447    0.71246  "
      ]
     },
     "execution_count": 13,
     "metadata": {},
     "output_type": "execute_result"
    }
   ],
   "source": [
    "X.head()"
   ]
  },
  {
   "cell_type": "code",
   "execution_count": 14,
   "metadata": {},
   "outputs": [],
   "source": [
    "#Encode categorical features\n",
    "X = pd.get_dummies(data = X, columns = categorical_cols)\n",
    "\n"
   ]
  },
  {
   "cell_type": "code",
   "execution_count": 15,
   "metadata": {},
   "outputs": [
    {
     "data": {
      "text/html": [
       "<div>\n",
       "<style scoped>\n",
       "    .dataframe tbody tr th:only-of-type {\n",
       "        vertical-align: middle;\n",
       "    }\n",
       "\n",
       "    .dataframe tbody tr th {\n",
       "        vertical-align: top;\n",
       "    }\n",
       "\n",
       "    .dataframe thead th {\n",
       "        text-align: right;\n",
       "    }\n",
       "</style>\n",
       "<table border=\"1\" class=\"dataframe\">\n",
       "  <thead>\n",
       "    <tr style=\"text-align: right;\">\n",
       "      <th></th>\n",
       "      <th>age</th>\n",
       "      <th>campaign</th>\n",
       "      <th>pdays</th>\n",
       "      <th>previous</th>\n",
       "      <th>cons.price.idx</th>\n",
       "      <th>cons.conf.idx</th>\n",
       "      <th>euribor3m</th>\n",
       "      <th>job_admin.</th>\n",
       "      <th>job_blue-collar</th>\n",
       "      <th>job_entrepreneur</th>\n",
       "      <th>...</th>\n",
       "      <th>month_oct</th>\n",
       "      <th>month_sep</th>\n",
       "      <th>day_of_week_fri</th>\n",
       "      <th>day_of_week_mon</th>\n",
       "      <th>day_of_week_thu</th>\n",
       "      <th>day_of_week_tue</th>\n",
       "      <th>day_of_week_wed</th>\n",
       "      <th>poutcome_failure</th>\n",
       "      <th>poutcome_nonexistent</th>\n",
       "      <th>poutcome_success</th>\n",
       "    </tr>\n",
       "  </thead>\n",
       "  <tbody>\n",
       "    <tr>\n",
       "      <th>0</th>\n",
       "      <td>1.533034</td>\n",
       "      <td>-0.565922</td>\n",
       "      <td>0.195414</td>\n",
       "      <td>-0.349494</td>\n",
       "      <td>0.722722</td>\n",
       "      <td>0.886447</td>\n",
       "      <td>0.71246</td>\n",
       "      <td>False</td>\n",
       "      <td>False</td>\n",
       "      <td>False</td>\n",
       "      <td>...</td>\n",
       "      <td>False</td>\n",
       "      <td>False</td>\n",
       "      <td>False</td>\n",
       "      <td>True</td>\n",
       "      <td>False</td>\n",
       "      <td>False</td>\n",
       "      <td>False</td>\n",
       "      <td>False</td>\n",
       "      <td>True</td>\n",
       "      <td>False</td>\n",
       "    </tr>\n",
       "    <tr>\n",
       "      <th>1</th>\n",
       "      <td>1.628993</td>\n",
       "      <td>-0.565922</td>\n",
       "      <td>0.195414</td>\n",
       "      <td>-0.349494</td>\n",
       "      <td>0.722722</td>\n",
       "      <td>0.886447</td>\n",
       "      <td>0.71246</td>\n",
       "      <td>False</td>\n",
       "      <td>False</td>\n",
       "      <td>False</td>\n",
       "      <td>...</td>\n",
       "      <td>False</td>\n",
       "      <td>False</td>\n",
       "      <td>False</td>\n",
       "      <td>True</td>\n",
       "      <td>False</td>\n",
       "      <td>False</td>\n",
       "      <td>False</td>\n",
       "      <td>False</td>\n",
       "      <td>True</td>\n",
       "      <td>False</td>\n",
       "    </tr>\n",
       "    <tr>\n",
       "      <th>2</th>\n",
       "      <td>-0.290186</td>\n",
       "      <td>-0.565922</td>\n",
       "      <td>0.195414</td>\n",
       "      <td>-0.349494</td>\n",
       "      <td>0.722722</td>\n",
       "      <td>0.886447</td>\n",
       "      <td>0.71246</td>\n",
       "      <td>False</td>\n",
       "      <td>False</td>\n",
       "      <td>False</td>\n",
       "      <td>...</td>\n",
       "      <td>False</td>\n",
       "      <td>False</td>\n",
       "      <td>False</td>\n",
       "      <td>True</td>\n",
       "      <td>False</td>\n",
       "      <td>False</td>\n",
       "      <td>False</td>\n",
       "      <td>False</td>\n",
       "      <td>True</td>\n",
       "      <td>False</td>\n",
       "    </tr>\n",
       "    <tr>\n",
       "      <th>3</th>\n",
       "      <td>-0.002309</td>\n",
       "      <td>-0.565922</td>\n",
       "      <td>0.195414</td>\n",
       "      <td>-0.349494</td>\n",
       "      <td>0.722722</td>\n",
       "      <td>0.886447</td>\n",
       "      <td>0.71246</td>\n",
       "      <td>True</td>\n",
       "      <td>False</td>\n",
       "      <td>False</td>\n",
       "      <td>...</td>\n",
       "      <td>False</td>\n",
       "      <td>False</td>\n",
       "      <td>False</td>\n",
       "      <td>True</td>\n",
       "      <td>False</td>\n",
       "      <td>False</td>\n",
       "      <td>False</td>\n",
       "      <td>False</td>\n",
       "      <td>True</td>\n",
       "      <td>False</td>\n",
       "    </tr>\n",
       "    <tr>\n",
       "      <th>4</th>\n",
       "      <td>1.533034</td>\n",
       "      <td>-0.565922</td>\n",
       "      <td>0.195414</td>\n",
       "      <td>-0.349494</td>\n",
       "      <td>0.722722</td>\n",
       "      <td>0.886447</td>\n",
       "      <td>0.71246</td>\n",
       "      <td>False</td>\n",
       "      <td>False</td>\n",
       "      <td>False</td>\n",
       "      <td>...</td>\n",
       "      <td>False</td>\n",
       "      <td>False</td>\n",
       "      <td>False</td>\n",
       "      <td>True</td>\n",
       "      <td>False</td>\n",
       "      <td>False</td>\n",
       "      <td>False</td>\n",
       "      <td>False</td>\n",
       "      <td>True</td>\n",
       "      <td>False</td>\n",
       "    </tr>\n",
       "  </tbody>\n",
       "</table>\n",
       "<p>5 rows × 60 columns</p>\n",
       "</div>"
      ],
      "text/plain": [
       "        age  campaign     pdays  previous  cons.price.idx  cons.conf.idx  \\\n",
       "0  1.533034 -0.565922  0.195414 -0.349494        0.722722       0.886447   \n",
       "1  1.628993 -0.565922  0.195414 -0.349494        0.722722       0.886447   \n",
       "2 -0.290186 -0.565922  0.195414 -0.349494        0.722722       0.886447   \n",
       "3 -0.002309 -0.565922  0.195414 -0.349494        0.722722       0.886447   \n",
       "4  1.533034 -0.565922  0.195414 -0.349494        0.722722       0.886447   \n",
       "\n",
       "   euribor3m  job_admin.  job_blue-collar  job_entrepreneur  ...  month_oct  \\\n",
       "0    0.71246       False            False             False  ...      False   \n",
       "1    0.71246       False            False             False  ...      False   \n",
       "2    0.71246       False            False             False  ...      False   \n",
       "3    0.71246        True            False             False  ...      False   \n",
       "4    0.71246       False            False             False  ...      False   \n",
       "\n",
       "   month_sep  day_of_week_fri  day_of_week_mon  day_of_week_thu  \\\n",
       "0      False            False             True            False   \n",
       "1      False            False             True            False   \n",
       "2      False            False             True            False   \n",
       "3      False            False             True            False   \n",
       "4      False            False             True            False   \n",
       "\n",
       "   day_of_week_tue  day_of_week_wed  poutcome_failure  poutcome_nonexistent  \\\n",
       "0            False            False             False                  True   \n",
       "1            False            False             False                  True   \n",
       "2            False            False             False                  True   \n",
       "3            False            False             False                  True   \n",
       "4            False            False             False                  True   \n",
       "\n",
       "   poutcome_success  \n",
       "0             False  \n",
       "1             False  \n",
       "2             False  \n",
       "3             False  \n",
       "4             False  \n",
       "\n",
       "[5 rows x 60 columns]"
      ]
     },
     "execution_count": 15,
     "metadata": {},
     "output_type": "execute_result"
    }
   ],
   "source": [
    "X.head()"
   ]
  },
  {
   "cell_type": "code",
   "execution_count": 16,
   "metadata": {},
   "outputs": [
    {
     "name": "stdout",
     "output_type": "stream",
     "text": [
      "<class 'pandas.core.frame.DataFrame'>\n",
      "RangeIndex: 41188 entries, 0 to 41187\n",
      "Data columns (total 60 columns):\n",
      " #   Column                         Non-Null Count  Dtype  \n",
      "---  ------                         --------------  -----  \n",
      " 0   age                            41188 non-null  float64\n",
      " 1   campaign                       41188 non-null  float64\n",
      " 2   pdays                          41188 non-null  float64\n",
      " 3   previous                       41188 non-null  float64\n",
      " 4   cons.price.idx                 41188 non-null  float64\n",
      " 5   cons.conf.idx                  41188 non-null  float64\n",
      " 6   euribor3m                      41188 non-null  float64\n",
      " 7   job_admin.                     41188 non-null  bool   \n",
      " 8   job_blue-collar                41188 non-null  bool   \n",
      " 9   job_entrepreneur               41188 non-null  bool   \n",
      " 10  job_housemaid                  41188 non-null  bool   \n",
      " 11  job_management                 41188 non-null  bool   \n",
      " 12  job_retired                    41188 non-null  bool   \n",
      " 13  job_self-employed              41188 non-null  bool   \n",
      " 14  job_services                   41188 non-null  bool   \n",
      " 15  job_student                    41188 non-null  bool   \n",
      " 16  job_technician                 41188 non-null  bool   \n",
      " 17  job_unemployed                 41188 non-null  bool   \n",
      " 18  job_unknown                    41188 non-null  bool   \n",
      " 19  marital_divorced               41188 non-null  bool   \n",
      " 20  marital_married                41188 non-null  bool   \n",
      " 21  marital_single                 41188 non-null  bool   \n",
      " 22  marital_unknown                41188 non-null  bool   \n",
      " 23  education_basic.4y             41188 non-null  bool   \n",
      " 24  education_basic.6y             41188 non-null  bool   \n",
      " 25  education_basic.9y             41188 non-null  bool   \n",
      " 26  education_high.school          41188 non-null  bool   \n",
      " 27  education_illiterate           41188 non-null  bool   \n",
      " 28  education_professional.course  41188 non-null  bool   \n",
      " 29  education_university.degree    41188 non-null  bool   \n",
      " 30  education_unknown              41188 non-null  bool   \n",
      " 31  default_no                     41188 non-null  bool   \n",
      " 32  default_unknown                41188 non-null  bool   \n",
      " 33  default_yes                    41188 non-null  bool   \n",
      " 34  housing_no                     41188 non-null  bool   \n",
      " 35  housing_unknown                41188 non-null  bool   \n",
      " 36  housing_yes                    41188 non-null  bool   \n",
      " 37  loan_no                        41188 non-null  bool   \n",
      " 38  loan_unknown                   41188 non-null  bool   \n",
      " 39  loan_yes                       41188 non-null  bool   \n",
      " 40  contact_cellular               41188 non-null  bool   \n",
      " 41  contact_telephone              41188 non-null  bool   \n",
      " 42  month_apr                      41188 non-null  bool   \n",
      " 43  month_aug                      41188 non-null  bool   \n",
      " 44  month_dec                      41188 non-null  bool   \n",
      " 45  month_jul                      41188 non-null  bool   \n",
      " 46  month_jun                      41188 non-null  bool   \n",
      " 47  month_mar                      41188 non-null  bool   \n",
      " 48  month_may                      41188 non-null  bool   \n",
      " 49  month_nov                      41188 non-null  bool   \n",
      " 50  month_oct                      41188 non-null  bool   \n",
      " 51  month_sep                      41188 non-null  bool   \n",
      " 52  day_of_week_fri                41188 non-null  bool   \n",
      " 53  day_of_week_mon                41188 non-null  bool   \n",
      " 54  day_of_week_thu                41188 non-null  bool   \n",
      " 55  day_of_week_tue                41188 non-null  bool   \n",
      " 56  day_of_week_wed                41188 non-null  bool   \n",
      " 57  poutcome_failure               41188 non-null  bool   \n",
      " 58  poutcome_nonexistent           41188 non-null  bool   \n",
      " 59  poutcome_success               41188 non-null  bool   \n",
      "dtypes: bool(53), float64(7)\n",
      "memory usage: 4.3 MB\n"
     ]
    }
   ],
   "source": [
    "X.info()"
   ]
  },
  {
   "cell_type": "code",
   "execution_count": 17,
   "metadata": {},
   "outputs": [],
   "source": [
    "# Target feature before encoding\n",
    "y = df.y"
   ]
  },
  {
   "cell_type": "code",
   "execution_count": 18,
   "metadata": {},
   "outputs": [],
   "source": [
    "# Label encoding\n",
    "le = LabelEncoder()\n",
    "y = le.fit_transform(y)\n"
   ]
  },
  {
   "cell_type": "code",
   "execution_count": 19,
   "metadata": {},
   "outputs": [
    {
     "data": {
      "text/plain": [
       "array([0, 0, 0, ..., 0, 1, 0])"
      ]
     },
     "execution_count": 19,
     "metadata": {},
     "output_type": "execute_result"
    }
   ],
   "source": [
    "y"
   ]
  },
  {
   "cell_type": "code",
   "execution_count": 20,
   "metadata": {},
   "outputs": [
    {
     "data": {
      "text/plain": [
       "y\n",
       "no     0.887346\n",
       "yes    0.112654\n",
       "Name: proportion, dtype: float64"
      ]
     },
     "execution_count": 20,
     "metadata": {},
     "output_type": "execute_result"
    }
   ],
   "source": [
    "# Check if there is target class imbalance\n",
    "df.y.value_counts(normalize = True)\n"
   ]
  },
  {
   "cell_type": "markdown",
   "metadata": {},
   "source": [
    "##### There is a substantial class imbalance in the data set with 88.7% on target entries being 0 ('no') and 11.3% being 1 ('yes')"
   ]
  },
  {
   "cell_type": "markdown",
   "metadata": {},
   "source": [
    "### Problem 6: Train/Test Split\n",
    "\n",
    "With your data prepared, split it into a train and test set."
   ]
  },
  {
   "cell_type": "code",
   "execution_count": 21,
   "metadata": {},
   "outputs": [],
   "source": [
    "# Use stratification to address class imbalance. Generate a 80/20 train/test split\n",
    "X_train, X_test, y_train, y_test = train_test_split(X, y, test_size=0.2, random_state=42, stratify=y)"
   ]
  },
  {
   "cell_type": "code",
   "execution_count": null,
   "metadata": {},
   "outputs": [],
   "source": []
  },
  {
   "cell_type": "code",
   "execution_count": null,
   "metadata": {},
   "outputs": [],
   "source": []
  },
  {
   "cell_type": "markdown",
   "metadata": {},
   "source": [
    "### Problem 7: A Baseline Model\n",
    "\n",
    "Before we build our first model, we want to establish a baseline.  What is the baseline performance that our classifier should aim to beat?"
   ]
  },
  {
   "cell_type": "code",
   "execution_count": 22,
   "metadata": {},
   "outputs": [
    {
     "name": "stdout",
     "output_type": "stream",
     "text": [
      "0.8873512988589464\n"
     ]
    }
   ],
   "source": [
    "# Establish baseline using sklearn dummy classifier\n",
    "dummy_clf = DummyClassifier().fit(X_train, y_train)\n",
    "baseline_score = dummy_clf.score(X_test, y_test)\n",
    "\n",
    "print(baseline_score)"
   ]
  },
  {
   "cell_type": "markdown",
   "metadata": {},
   "source": [
    "##### Answer: The baseline performance that our classifier should aim to beat is an accuracy of 88.76%\n"
   ]
  },
  {
   "cell_type": "code",
   "execution_count": null,
   "metadata": {},
   "outputs": [],
   "source": []
  },
  {
   "cell_type": "markdown",
   "metadata": {},
   "source": [
    "### Problem 8: A Simple Model\n",
    "\n",
    "Use Logistic Regression to build a basic model on your data.  "
   ]
  },
  {
   "cell_type": "code",
   "execution_count": 23,
   "metadata": {},
   "outputs": [],
   "source": [
    "lr_default_model = LogisticRegression()\n",
    "start_time = time.time()\n",
    "lr_default_model.fit(X_train, y_train)\n",
    "end_time = time.time()\n",
    "lr_default_model_train_time = end_time - start_time\n"
   ]
  },
  {
   "cell_type": "markdown",
   "metadata": {},
   "source": [
    "### Problem 9: Score the Model\n",
    "\n",
    "What is the accuracy of your model?"
   ]
  },
  {
   "cell_type": "code",
   "execution_count": 24,
   "metadata": {},
   "outputs": [
    {
     "name": "stdout",
     "output_type": "stream",
     "text": [
      "Default LR model Training Accuracy:  0.900\n",
      "Default LR model Test Accuracy:  0.902\n",
      "Default LR model Train Time:  0.155\n"
     ]
    }
   ],
   "source": [
    "lr_default_model_train_acc = lr_default_model.score(X_train, y_train)\n",
    "lr_default_model_test_acc = lr_default_model.score(X_test, y_test)\n",
    "\n",
    "print(f'Default LR model Training Accuracy: {lr_default_model_train_acc: .3f}')\n",
    "print(f'Default LR model Test Accuracy: {lr_default_model_test_acc: .3f}')\n",
    "print(f'Default LR model Train Time: {lr_default_model_train_time: .3f}')"
   ]
  },
  {
   "cell_type": "markdown",
   "metadata": {},
   "source": [
    "### Problem 10: Model Comparisons\n",
    "\n",
    "Now, we aim to compare the performance of the Logistic Regression model to our KNN algorithm, Decision Tree, and SVM models.  Using the default settings for each of the models, fit and score each.  Also, be sure to compare the fit time of each of the models.  Present your findings in a `DataFrame` similar to that below:\n",
    "\n",
    "| Model | Train Time | Train Accuracy | Test Accuracy |\n",
    "| ----- | ---------- | -------------  | -----------   |\n",
    "|     |    |.     |.     |"
   ]
  },
  {
   "cell_type": "code",
   "execution_count": 25,
   "metadata": {},
   "outputs": [
    {
     "name": "stdout",
     "output_type": "stream",
     "text": [
      "Default KNN model Training Accuracy:  0.913\n",
      "Default KNN model Test Accuracy:  0.897\n",
      "Default KNN model Train Time:  0.019\n"
     ]
    }
   ],
   "source": [
    "knn_default_model = KNeighborsClassifier()\n",
    "\n",
    "start_time = time.time()\n",
    "knn_default_model.fit(X_train, y_train)\n",
    "end_time = time.time()\n",
    "knn_default_model_train_time = end_time - start_time\n",
    "\n",
    "knn_default_model_train_acc = knn_default_model.score(X_train, y_train)\n",
    "knn_default_model_test_acc = knn_default_model.score(X_test, y_test)\n",
    "\n",
    "print(f'Default KNN model Training Accuracy: {knn_default_model_train_acc: .3f}')\n",
    "print(f'Default KNN model Test Accuracy: {knn_default_model_test_acc: .3f}')\n",
    "print(f'Default KNN model Train Time: {knn_default_model_train_time: .3f}')"
   ]
  },
  {
   "cell_type": "code",
   "execution_count": 26,
   "metadata": {},
   "outputs": [
    {
     "name": "stdout",
     "output_type": "stream",
     "text": [
      "Default DTree model Training Accuracy:  0.995\n",
      "Default DTree model Test Accuracy:  0.841\n",
      "Default DTree model Train Time:  0.174\n"
     ]
    }
   ],
   "source": [
    "dtree_default_model = DecisionTreeClassifier()\n",
    "\n",
    "start_time = time.time()\n",
    "dtree_default_model.fit(X_train, y_train)\n",
    "end_time = time.time()\n",
    "dtree_default_model_train_time = end_time - start_time\n",
    "\n",
    "dtree_default_model_train_acc = dtree_default_model.score(X_train, y_train)\n",
    "dtree_default_model_test_acc = dtree_default_model.score(X_test, y_test)\n",
    "\n",
    "print(f'Default DTree model Training Accuracy: {dtree_default_model_train_acc: .3f}')\n",
    "print(f'Default DTree model Test Accuracy: {dtree_default_model_test_acc: .3f}')\n",
    "print(f'Default DTree model Train Time: {dtree_default_model_train_time: .3f}')"
   ]
  },
  {
   "cell_type": "code",
   "execution_count": 27,
   "metadata": {},
   "outputs": [
    {
     "name": "stdout",
     "output_type": "stream",
     "text": [
      "Default SVM model Training Accuracy:  0.905\n",
      "Default SVM model Test Accuracy:  0.903\n",
      "Default SVM model Train Time:  86.148\n"
     ]
    }
   ],
   "source": [
    "svm_default_model = SVC()\n",
    "\n",
    "start_time = time.time()\n",
    "svm_default_model.fit(X_train, y_train)\n",
    "end_time = time.time()\n",
    "svm_default_model_train_time = end_time - start_time\n",
    "\n",
    "svm_default_model_train_acc = svm_default_model.score(X_train, y_train)\n",
    "svm_default_model_test_acc = svm_default_model.score(X_test, y_test)\n",
    "\n",
    "print(f'Default SVM model Training Accuracy: {svm_default_model_train_acc: .3f}')\n",
    "print(f'Default SVM model Test Accuracy: {svm_default_model_test_acc: .3f}')\n",
    "print(f'Default SVM model Train Time: {svm_default_model_train_time: .3f}')\n"
   ]
  },
  {
   "cell_type": "code",
   "execution_count": 28,
   "metadata": {},
   "outputs": [],
   "source": [
    "# Create summary pandas data frame"
   ]
  },
  {
   "cell_type": "code",
   "execution_count": 29,
   "metadata": {},
   "outputs": [],
   "source": [
    "d = {'Model': ['Logistic Regression', 'KNN', 'Decision Tree', 'SVM'],\n",
    "     'Train Time': [lr_default_model_train_time, knn_default_model_train_time, dtree_default_model_train_time, svm_default_model_train_time],\n",
    "     'Train Accuracy': [lr_default_model_train_acc, knn_default_model_train_acc, dtree_default_model_train_acc, svm_default_model_train_acc],\n",
    "     'Test Accuracy': [lr_default_model_test_acc, knn_default_model_test_acc, dtree_default_model_test_acc, svm_default_model_test_acc]}\n",
    "results_df = pd.DataFrame(data=d)\n",
    "results_df.set_index('Model', inplace = True)"
   ]
  },
  {
   "cell_type": "code",
   "execution_count": 30,
   "metadata": {},
   "outputs": [
    {
     "data": {
      "text/html": [
       "<div>\n",
       "<style scoped>\n",
       "    .dataframe tbody tr th:only-of-type {\n",
       "        vertical-align: middle;\n",
       "    }\n",
       "\n",
       "    .dataframe tbody tr th {\n",
       "        vertical-align: top;\n",
       "    }\n",
       "\n",
       "    .dataframe thead th {\n",
       "        text-align: right;\n",
       "    }\n",
       "</style>\n",
       "<table border=\"1\" class=\"dataframe\">\n",
       "  <thead>\n",
       "    <tr style=\"text-align: right;\">\n",
       "      <th></th>\n",
       "      <th>Train Time</th>\n",
       "      <th>Train Accuracy</th>\n",
       "      <th>Test Accuracy</th>\n",
       "    </tr>\n",
       "    <tr>\n",
       "      <th>Model</th>\n",
       "      <th></th>\n",
       "      <th></th>\n",
       "      <th></th>\n",
       "    </tr>\n",
       "  </thead>\n",
       "  <tbody>\n",
       "    <tr>\n",
       "      <th>Logistic Regression</th>\n",
       "      <td>0.154610</td>\n",
       "      <td>0.900061</td>\n",
       "      <td>0.901554</td>\n",
       "    </tr>\n",
       "    <tr>\n",
       "      <th>KNN</th>\n",
       "      <td>0.018952</td>\n",
       "      <td>0.912564</td>\n",
       "      <td>0.897184</td>\n",
       "    </tr>\n",
       "    <tr>\n",
       "      <th>Decision Tree</th>\n",
       "      <td>0.174160</td>\n",
       "      <td>0.995417</td>\n",
       "      <td>0.840738</td>\n",
       "    </tr>\n",
       "    <tr>\n",
       "      <th>SVM</th>\n",
       "      <td>86.147918</td>\n",
       "      <td>0.905311</td>\n",
       "      <td>0.903010</td>\n",
       "    </tr>\n",
       "  </tbody>\n",
       "</table>\n",
       "</div>"
      ],
      "text/plain": [
       "                     Train Time  Train Accuracy  Test Accuracy\n",
       "Model                                                         \n",
       "Logistic Regression    0.154610        0.900061       0.901554\n",
       "KNN                    0.018952        0.912564       0.897184\n",
       "Decision Tree          0.174160        0.995417       0.840738\n",
       "SVM                   86.147918        0.905311       0.903010"
      ]
     },
     "execution_count": 30,
     "metadata": {},
     "output_type": "execute_result"
    }
   ],
   "source": [
    "results_df"
   ]
  },
  {
   "cell_type": "markdown",
   "metadata": {},
   "source": [
    "##### The SVM default model had the best test accuracy, followed by the default LR model. The SVM model by far took the longest to compute."
   ]
  },
  {
   "cell_type": "code",
   "execution_count": null,
   "metadata": {},
   "outputs": [],
   "source": []
  },
  {
   "cell_type": "markdown",
   "metadata": {},
   "source": [
    "### Problem 11: Improving the Model\n",
    "\n",
    "Now that we have some basic models on the board, we want to try to improve these.  Below, we list a few things to explore in this pursuit.\n",
    "\n",
    "- More feature engineering and exploration.  For example, should we keep the gender feature?  Why or why not?\n",
    "- Hyperparameter tuning and grid search.  All of our models have additional hyperparameters to tune and explore.  For example the number of neighbors in KNN or the maximum depth of a Decision Tree.  \n",
    "- Adjust your performance metric"
   ]
  },
  {
   "cell_type": "markdown",
   "metadata": {},
   "source": [
    "##### Answer: Feature engineering and exploration. For example, should we keep the gender feature? Why or why not?\n",
    "\n",
    "###### Feature engineering was performed in a previous section (\"Understanding the features\") above. The gender feature was not included in the dataset. \n",
    "###### The authors of the paper accompanying the dataset show in their paper that gender was not a relevant feature and should be dropped as differences in gender were not correlated with deposit subscription "
   ]
  },
  {
   "cell_type": "code",
   "execution_count": null,
   "metadata": {},
   "outputs": [],
   "source": []
  },
  {
   "cell_type": "markdown",
   "metadata": {},
   "source": [
    "#### Hyperparameter tuning and grid search\n",
    "\n",
    "The section below uses GridSearchCV to perform hyperparameter searches and tuning for different classification models. "
   ]
  },
  {
   "cell_type": "code",
   "execution_count": 31,
   "metadata": {},
   "outputs": [
    {
     "name": "stderr",
     "output_type": "stream",
     "text": [
      "C:\\Users\\accg2\\anaconda3\\Lib\\site-packages\\sklearn\\model_selection\\_validation.py:540: FitFailedWarning: \n",
      "200 fits failed out of a total of 800.\n",
      "The score on these train-test partitions for these parameters will be set to nan.\n",
      "If these failures are not expected, you can try to debug them by setting error_score='raise'.\n",
      "\n",
      "Below are more details about the failures:\n",
      "--------------------------------------------------------------------------------\n",
      "100 fits failed with the following error:\n",
      "Traceback (most recent call last):\n",
      "  File \"C:\\Users\\accg2\\anaconda3\\Lib\\site-packages\\sklearn\\model_selection\\_validation.py\", line 888, in _fit_and_score\n",
      "    estimator.fit(X_train, y_train, **fit_params)\n",
      "  File \"C:\\Users\\accg2\\anaconda3\\Lib\\site-packages\\sklearn\\base.py\", line 1473, in wrapper\n",
      "    return fit_method(estimator, *args, **kwargs)\n",
      "           ^^^^^^^^^^^^^^^^^^^^^^^^^^^^^^^^^^^^^^\n",
      "  File \"C:\\Users\\accg2\\anaconda3\\Lib\\site-packages\\sklearn\\pipeline.py\", line 473, in fit\n",
      "    self._final_estimator.fit(Xt, y, **last_step_params[\"fit\"])\n",
      "  File \"C:\\Users\\accg2\\anaconda3\\Lib\\site-packages\\sklearn\\base.py\", line 1473, in wrapper\n",
      "    return fit_method(estimator, *args, **kwargs)\n",
      "           ^^^^^^^^^^^^^^^^^^^^^^^^^^^^^^^^^^^^^^\n",
      "  File \"C:\\Users\\accg2\\anaconda3\\Lib\\site-packages\\sklearn\\linear_model\\_logistic.py\", line 1194, in fit\n",
      "    solver = _check_solver(self.solver, self.penalty, self.dual)\n",
      "             ^^^^^^^^^^^^^^^^^^^^^^^^^^^^^^^^^^^^^^^^^^^^^^^^^^^\n",
      "  File \"C:\\Users\\accg2\\anaconda3\\Lib\\site-packages\\sklearn\\linear_model\\_logistic.py\", line 67, in _check_solver\n",
      "    raise ValueError(\n",
      "ValueError: Solver lbfgs supports only 'l2' or None penalties, got l1 penalty.\n",
      "\n",
      "--------------------------------------------------------------------------------\n",
      "100 fits failed with the following error:\n",
      "Traceback (most recent call last):\n",
      "  File \"C:\\Users\\accg2\\anaconda3\\Lib\\site-packages\\sklearn\\model_selection\\_validation.py\", line 888, in _fit_and_score\n",
      "    estimator.fit(X_train, y_train, **fit_params)\n",
      "  File \"C:\\Users\\accg2\\anaconda3\\Lib\\site-packages\\sklearn\\base.py\", line 1473, in wrapper\n",
      "    return fit_method(estimator, *args, **kwargs)\n",
      "           ^^^^^^^^^^^^^^^^^^^^^^^^^^^^^^^^^^^^^^\n",
      "  File \"C:\\Users\\accg2\\anaconda3\\Lib\\site-packages\\sklearn\\pipeline.py\", line 473, in fit\n",
      "    self._final_estimator.fit(Xt, y, **last_step_params[\"fit\"])\n",
      "  File \"C:\\Users\\accg2\\anaconda3\\Lib\\site-packages\\sklearn\\base.py\", line 1473, in wrapper\n",
      "    return fit_method(estimator, *args, **kwargs)\n",
      "           ^^^^^^^^^^^^^^^^^^^^^^^^^^^^^^^^^^^^^^\n",
      "  File \"C:\\Users\\accg2\\anaconda3\\Lib\\site-packages\\sklearn\\linear_model\\_logistic.py\", line 1194, in fit\n",
      "    solver = _check_solver(self.solver, self.penalty, self.dual)\n",
      "             ^^^^^^^^^^^^^^^^^^^^^^^^^^^^^^^^^^^^^^^^^^^^^^^^^^^\n",
      "  File \"C:\\Users\\accg2\\anaconda3\\Lib\\site-packages\\sklearn\\linear_model\\_logistic.py\", line 67, in _check_solver\n",
      "    raise ValueError(\n",
      "ValueError: Solver sag supports only 'l2' or None penalties, got l1 penalty.\n",
      "\n",
      "  warnings.warn(some_fits_failed_message, FitFailedWarning)\n",
      "C:\\Users\\accg2\\anaconda3\\Lib\\site-packages\\sklearn\\model_selection\\_search.py:1102: UserWarning: One or more of the test scores are non-finite: [       nan 0.89936267        nan 0.89951442 0.89939302 0.89936267\n",
      " 0.89948407 0.89948407        nan 0.89927162        nan 0.89930197\n",
      " 0.89921093 0.89915023 0.89924127 0.89924127        nan 0.89933232\n",
      "        nan 0.89924127 0.89902883 0.89908953 0.89911988 0.89911988\n",
      "        nan 0.89902883        nan 0.89918058 0.89899848 0.89908953\n",
      " 0.89911988 0.89911988        nan 0.89911988        nan 0.89915023\n",
      " 0.89908953 0.89905918 0.89905918 0.89905918        nan 0.89908953\n",
      "        nan 0.89908953 0.89902883 0.89905918 0.89905918 0.89905918\n",
      "        nan 0.89905918        nan 0.89908953 0.89899848 0.89902883\n",
      " 0.89902883 0.89902883        nan 0.89902883        nan 0.89905918\n",
      " 0.89902883 0.89902883 0.89902883 0.89902883        nan 0.89902883\n",
      "        nan 0.89902883 0.89908953 0.89902883 0.89902883 0.89902883\n",
      "        nan 0.89902883        nan 0.89902883 0.89905918 0.89902883\n",
      " 0.89902883 0.89902883        nan 0.89902883        nan 0.89902883\n",
      " 0.89905918 0.89902883 0.89902883 0.89902883        nan 0.89902883\n",
      "        nan 0.89902883 0.89905918 0.89902883 0.89902883 0.89902883\n",
      "        nan 0.89902883        nan 0.89902883 0.89905918 0.89902883\n",
      " 0.89902883 0.89902883        nan 0.89905918        nan 0.89902883\n",
      " 0.89905918 0.89902883 0.89902883 0.89902883        nan 0.89902883\n",
      "        nan 0.89902883 0.89905918 0.89902883 0.89902883 0.89902883\n",
      "        nan 0.89902883        nan 0.89902883 0.89905918 0.89902883\n",
      " 0.89902883 0.89902883        nan 0.89905918        nan 0.89902883\n",
      " 0.89905918 0.89902883 0.89902883 0.89902883        nan 0.89902883\n",
      "        nan 0.89902883 0.89905918 0.89902883 0.89902883 0.89902883\n",
      "        nan 0.89905918        nan 0.89902883 0.89905918 0.89902883\n",
      " 0.89902883 0.89902883        nan 0.89902883        nan 0.89902883\n",
      " 0.89905918 0.89902883 0.89902883 0.89902883]\n",
      "  warnings.warn(\n"
     ]
    },
    {
     "name": "stdout",
     "output_type": "stream",
     "text": [
      "Training Accuracy:  0.900\n",
      "Test Accuracy:  0.902\n",
      "Mean fit time:  35.058\n",
      "Best parameters of LR: {'logistic__C': 0.1, 'logistic__penalty': 'l1', 'logistic__solver': 'saga'}\n"
     ]
    }
   ],
   "source": [
    "# Logistic regression model\n",
    "# Hyperparameters Tuning with GridSearchSV \n",
    "\n",
    "# Define the pipeline steps\n",
    "lr_model = Pipeline([(\"logistic\", LogisticRegression(max_iter = 10000))])\n",
    "\n",
    "# Define hyperparameters for tuning\n",
    "penalty = [\"l1\", \"l2\"]       # Regularization terms: l1 (Lasso) and l2 (Ridge)\n",
    "C = np.logspace(-1, 5, 20)   # Regularization strength; inverse of regularization parameter\n",
    "solver = [\"lbfgs\", \"liblinear\", \"sag\", \"saga\"]  # Optimization algorithms\n",
    "\n",
    "# Create the parameter grid\n",
    "lr_param_grid = {\"logistic__penalty\" : penalty,\n",
    "              \"logistic__C\" : C,\n",
    "              \"logistic__solver\":solver}\n",
    "\n",
    "lr_grid_model = GridSearchCV(estimator=lr_model,\n",
    "                          param_grid=lr_param_grid,\n",
    "                          cv=5,\n",
    "                          scoring = \"accuracy\", \n",
    "                          n_jobs = -1,             # Use all available cores\n",
    "                          return_train_score=False) # Return training scores\n",
    "\n",
    "lr_grid_model.fit(X_train, y_train)\n",
    "\n",
    "lr_grid_cv_results = lr_grid_model.cv_results_\n",
    "lr_grid_best_params = lr_grid_model.best_params_\n",
    "\n",
    "lr_grid_train_acc = lr_grid_model.score(X_train, y_train)\n",
    "lr_grid_test_acc = lr_grid_model.score(X_test, y_test)\n",
    "lr_grid_mean_fit_time = np.mean(lr_grid_cv_results.get('mean_fit_time'))\n",
    "\n",
    "### Summary results\n",
    "print(f'Training Accuracy: {lr_grid_train_acc: .3f}')\n",
    "print(f'Test Accuracy: {lr_grid_test_acc: .3f}')\n",
    "print(f'Mean fit time: {lr_grid_mean_fit_time: .3f}')\n",
    "print(f'Best parameters of LR: {lr_grid_best_params}')\n",
    "#print(f'Logistic regression GSCV results: {lr_grid_cv_results}')"
   ]
  },
  {
   "cell_type": "code",
   "execution_count": 32,
   "metadata": {},
   "outputs": [
    {
     "name": "stdout",
     "output_type": "stream",
     "text": [
      "Optimized LR Model Accuracy:  0.902\n",
      "Optimized LR Model Recall:  0.218\n",
      "Optimized LR Model Precision:  0.709\n",
      "Optimized LR Model F1 Score:  0.333\n"
     ]
    }
   ],
   "source": [
    "# Compute performance scores for accuracy optimized model\n",
    "lr_val_model = LogisticRegression(penalty = 'l1', C = 0.1, solver = 'saga',max_iter = 10000)\n",
    "lr_val_model.fit(X_train, y_train)\n",
    "y_lr_pred = lr_val_model.predict(X_test)\n",
    "lr_val_model_acc = accuracy_score(y_test, y_lr_pred)\n",
    "lr_val_model_recall = recall_score(y_test, y_lr_pred)\n",
    "lr_val_model_precision = precision_score(y_test, y_lr_pred)\n",
    "lr_val_model_f1 = f1_score(y_test, y_lr_pred)\n",
    "\n",
    "print(f'Optimized LR Model Accuracy: {lr_val_model_acc: .3f}')\n",
    "print(f'Optimized LR Model Recall: {lr_val_model_recall: .3f}')\n",
    "print(f'Optimized LR Model Precision: {lr_val_model_precision: .3f}')\n",
    "print(f'Optimized LR Model F1 Score: {lr_val_model_f1: .3f}')\n"
   ]
  },
  {
   "cell_type": "code",
   "execution_count": 33,
   "metadata": {},
   "outputs": [
    {
     "name": "stdout",
     "output_type": "stream",
     "text": [
      "              precision    recall  f1-score   support\n",
      "\n",
      "           0      0.909     0.989     0.947      7310\n",
      "           1      0.709     0.218     0.333       928\n",
      "\n",
      "    accuracy                          0.902      8238\n",
      "   macro avg      0.809     0.603     0.640      8238\n",
      "weighted avg      0.886     0.902     0.878      8238\n",
      "\n"
     ]
    }
   ],
   "source": [
    "# Compute classification report\n",
    "lr_val_model_classification_report = classification_report(y_test, y_lr_pred, digits=3)\n",
    "print(lr_val_model_classification_report)\n"
   ]
  },
  {
   "cell_type": "code",
   "execution_count": 34,
   "metadata": {},
   "outputs": [
    {
     "data": {
      "text/plain": [
       "<sklearn.metrics._plot.confusion_matrix.ConfusionMatrixDisplay at 0x21f5ca3aae0>"
      ]
     },
     "execution_count": 34,
     "metadata": {},
     "output_type": "execute_result"
    },
    {
     "data": {
      "image/png": "[encoded data removed]",
      "text/plain": [
       "<Figure size 640x480 with 2 Axes>"
      ]
     },
     "metadata": {},
     "output_type": "display_data"
    }
   ],
   "source": [
    "# Compute and display confusion matrix\n",
    "cm_lr = confusion_matrix(y_test, y_lr_pred, labels=lr_val_model.classes_)\n",
    "disp = ConfusionMatrixDisplay(confusion_matrix=cm_lr,\n",
    "                              display_labels=lr_val_model.classes_)\n",
    "disp.plot()\n"
   ]
  },
  {
   "cell_type": "code",
   "execution_count": null,
   "metadata": {},
   "outputs": [],
   "source": []
  },
  {
   "cell_type": "code",
   "execution_count": 35,
   "metadata": {},
   "outputs": [
    {
     "name": "stdout",
     "output_type": "stream",
     "text": [
      "Training Accuracy:  0.905\n",
      "Test Accuracy:  0.903\n",
      "Mean fit time:  661.532\n",
      "Best parameters of SVM: {'C': 1.0, 'kernel': 'rbf'}\n"
     ]
    }
   ],
   "source": [
    "# SVM model\n",
    "# Hyperparameters Tuning with GridSearchSV \n",
    "\n",
    "# Define the pipeline steps\n",
    "svm_model = SVC()\n",
    "\n",
    "# Define hyperparameters for tuning\n",
    "C = [0.01, 0.1, 1.0, 10] # Regularization strength; inverse of regularization parameter\n",
    "kernel = ['rbf', 'poly', 'linear', 'sigmoid']\n",
    "\n",
    "# Create the parameter grid\n",
    "svm_param_grid = {\"kernel\" : kernel,\n",
    "              \"C\" : C}\n",
    "\n",
    "svm_grid_model = GridSearchCV(estimator=svm_model,\n",
    "                          param_grid=svm_param_grid,\n",
    "                          cv=5,\n",
    "                          scoring = \"accuracy\", \n",
    "                          n_jobs = -1,             # Use all available cores\n",
    "                          return_train_score=False) # Return training scores\n",
    "\n",
    "svm_grid_model.fit(X_train, y_train)\n",
    "\n",
    "svm_grid_cv_results = svm_grid_model.cv_results_\n",
    "svm_grid_best_params = svm_grid_model.best_params_\n",
    "\n",
    "svm_grid_train_acc = svm_grid_model.score(X_train, y_train)\n",
    "svm_grid_test_acc = svm_grid_model.score(X_test, y_test)\n",
    "svm_grid_mean_fit_time = np.mean(svm_grid_cv_results.get('mean_fit_time'))\n",
    "\n",
    "### Summary results\n",
    "print(f'Training Accuracy: {svm_grid_train_acc: .3f}')\n",
    "print(f'Test Accuracy: {svm_grid_test_acc: .3f}')\n",
    "print(f'Mean fit time: {svm_grid_mean_fit_time: .3f}')\n",
    "print(f'Best parameters of SVM: {svm_grid_best_params}')\n",
    "#print(f'SVM model GSCV results: {svm_grid_cv_results}')"
   ]
  },
  {
   "cell_type": "code",
   "execution_count": 36,
   "metadata": {},
   "outputs": [
    {
     "name": "stdout",
     "output_type": "stream",
     "text": [
      "Optimized SVM Model Accuracy:  0.903\n",
      "Optimized SVM Model Recall:  0.247\n",
      "Optimized SVM Model Precision:  0.696\n",
      "Optimized SVM Model F1 Score:  0.364\n"
     ]
    }
   ],
   "source": [
    "# Compute performance scores for accuracy optimized model\n",
    "svm_val_model = SVC(C = 1.0, kernel = 'rbf')\n",
    "svm_val_model.fit(X_train, y_train)\n",
    "y_svm_pred = svm_val_model.predict(X_test)\n",
    "svm_val_model_acc = accuracy_score(y_test, y_svm_pred)\n",
    "svm_val_model_recall = recall_score(y_test, y_svm_pred)\n",
    "svm_val_model_precision = precision_score(y_test, y_svm_pred)\n",
    "svm_val_model_f1 = f1_score(y_test, y_svm_pred)\n",
    "\n",
    "print(f'Optimized SVM Model Accuracy: {svm_val_model_acc: .3f}')\n",
    "print(f'Optimized SVM Model Recall: {svm_val_model_recall: .3f}')\n",
    "print(f'Optimized SVM Model Precision: {svm_val_model_precision: .3f}')\n",
    "print(f'Optimized SVM Model F1 Score: {svm_val_model_f1: .3f}')\n"
   ]
  },
  {
   "cell_type": "code",
   "execution_count": 37,
   "metadata": {},
   "outputs": [
    {
     "name": "stdout",
     "output_type": "stream",
     "text": [
      "              precision    recall  f1-score   support\n",
      "\n",
      "           0      0.912     0.986     0.947      7310\n",
      "           1      0.696     0.247     0.364       928\n",
      "\n",
      "    accuracy                          0.903      8238\n",
      "   macro avg      0.804     0.617     0.656      8238\n",
      "weighted avg      0.887     0.903     0.882      8238\n",
      "\n"
     ]
    }
   ],
   "source": [
    "# Compute classification report\n",
    "svm_val_model_classification_report = classification_report(y_test, y_svm_pred, digits=3)\n",
    "print(svm_val_model_classification_report)"
   ]
  },
  {
   "cell_type": "code",
   "execution_count": 38,
   "metadata": {},
   "outputs": [
    {
     "data": {
      "text/plain": [
       "<sklearn.metrics._plot.confusion_matrix.ConfusionMatrixDisplay at 0x21f56eacb90>"
      ]
     },
     "execution_count": 38,
     "metadata": {},
     "output_type": "execute_result"
    },
    {
     "data": {
      "image/png": "[encoded data removed]",
      "text/plain": [
       "<Figure size 640x480 with 2 Axes>"
      ]
     },
     "metadata": {},
     "output_type": "display_data"
    }
   ],
   "source": [
    "cm_svm = confusion_matrix(y_test, y_svm_pred, labels=svm_val_model.classes_)\n",
    "disp = ConfusionMatrixDisplay(confusion_matrix=cm_svm,\n",
    "                              display_labels=svm_val_model.classes_)\n",
    "disp.plot()\n"
   ]
  },
  {
   "cell_type": "code",
   "execution_count": null,
   "metadata": {},
   "outputs": [],
   "source": []
  },
  {
   "cell_type": "code",
   "execution_count": 39,
   "metadata": {},
   "outputs": [
    {
     "name": "stdout",
     "output_type": "stream",
     "text": [
      "Training Accuracy:  0.903\n",
      "Test Accuracy:  0.901\n",
      "Mean fit time:  0.026\n",
      "Best parameters of KNN: {'n_neighbors': 20, 'p': 3, 'weights': 'uniform'}\n"
     ]
    }
   ],
   "source": [
    "# KNN model\n",
    "# Hyperparameters Tuning with GridSearchSV \n",
    "\n",
    "# Define the pipeline steps\n",
    "knn_model = KNeighborsClassifier()\n",
    "\n",
    "# Define hyperparameters for tuning\n",
    "n_neighbors = [2, 5, 10, 20]\n",
    "p = [1, 2, 3]\n",
    "weight_options = ['uniform', 'distance']\n",
    "\n",
    "\n",
    "# Create the parameter grid\n",
    "knn_param_grid = {\"n_neighbors\" : n_neighbors,\n",
    "              \"p\" : p,\n",
    "              \"weights\":weight_options}\n",
    "\n",
    "knn_grid_model = GridSearchCV(estimator=knn_model,\n",
    "                          param_grid=knn_param_grid,\n",
    "                          cv=5,\n",
    "                          scoring = \"accuracy\", \n",
    "                          n_jobs = -1,             # Use all available cores\n",
    "                          return_train_score=False) # Return training scores\n",
    "\n",
    "knn_grid_model.fit(X_train, y_train)\n",
    "\n",
    "knn_grid_cv_results = knn_grid_model.cv_results_\n",
    "knn_grid_best_params = knn_grid_model.best_params_\n",
    "\n",
    "knn_grid_train_acc = knn_grid_model.score(X_train, y_train)\n",
    "knn_grid_test_acc = knn_grid_model.score(X_test, y_test)\n",
    "knn_grid_mean_fit_time = np.mean(knn_grid_cv_results.get('mean_fit_time'))\n",
    "\n",
    "### Summary results\n",
    "print(f'Training Accuracy: {knn_grid_train_acc: .3f}')\n",
    "print(f'Test Accuracy: {knn_grid_test_acc: .3f}')\n",
    "print(f'Mean fit time: {knn_grid_mean_fit_time: .3f}')\n",
    "print(f'Best parameters of KNN: {knn_grid_best_params}')\n",
    "#print(f'KNN model GSCV results: {knn_grid_cv_results}')"
   ]
  },
  {
   "cell_type": "code",
   "execution_count": 40,
   "metadata": {},
   "outputs": [
    {
     "name": "stdout",
     "output_type": "stream",
     "text": [
      "Optimized KNN Model Accuracy:  0.901\n",
      "Optimized KNN Model Recall:  0.219\n",
      "Optimized KNN Model Precision:  0.690\n",
      "Optimized KNN Model F1 Score:  0.332\n"
     ]
    }
   ],
   "source": [
    "# Compute performance scores for accuracy optimized model\n",
    "knn_val_model = KNeighborsClassifier(n_neighbors = 20, p = 3, weights = 'uniform')\n",
    "knn_val_model.fit(X_train, y_train)\n",
    "y_knn_pred = knn_val_model.predict(X_test)\n",
    "knn_val_model_acc = accuracy_score(y_test, y_knn_pred)\n",
    "knn_val_model_recall = recall_score(y_test, y_knn_pred)\n",
    "knn_val_model_precision = precision_score(y_test, y_knn_pred)\n",
    "knn_val_model_f1 = f1_score(y_test, y_knn_pred)\n",
    "\n",
    "print(f'Optimized KNN Model Accuracy: {knn_val_model_acc: .3f}')\n",
    "print(f'Optimized KNN Model Recall: {knn_val_model_recall: .3f}')\n",
    "print(f'Optimized KNN Model Precision: {knn_val_model_precision: .3f}')\n",
    "print(f'Optimized KNN Model F1 Score: {knn_val_model_f1: .3f}')"
   ]
  },
  {
   "cell_type": "code",
   "execution_count": 41,
   "metadata": {},
   "outputs": [
    {
     "name": "stdout",
     "output_type": "stream",
     "text": [
      "              precision    recall  f1-score   support\n",
      "\n",
      "           0      0.909     0.988     0.947      7310\n",
      "           1      0.690     0.219     0.332       928\n",
      "\n",
      "    accuracy                          0.901      8238\n",
      "   macro avg      0.800     0.603     0.639      8238\n",
      "weighted avg      0.884     0.901     0.877      8238\n",
      "\n"
     ]
    }
   ],
   "source": [
    "# Compute classification report\n",
    "knn_val_model_classification_report = classification_report(y_test, y_knn_pred, digits=3)\n",
    "print(knn_val_model_classification_report)"
   ]
  },
  {
   "cell_type": "code",
   "execution_count": 42,
   "metadata": {},
   "outputs": [
    {
     "data": {
      "text/plain": [
       "<sklearn.metrics._plot.confusion_matrix.ConfusionMatrixDisplay at 0x21f5cb6e690>"
      ]
     },
     "execution_count": 42,
     "metadata": {},
     "output_type": "execute_result"
    },
    {
     "data": {
      "image/png": "[encoded data removed]",
      "text/plain": [
       "<Figure size 640x480 with 2 Axes>"
      ]
     },
     "metadata": {},
     "output_type": "display_data"
    }
   ],
   "source": [
    "cm_knn = confusion_matrix(y_test, y_knn_pred, labels=knn_val_model.classes_)\n",
    "disp = ConfusionMatrixDisplay(confusion_matrix=cm_knn,\n",
    "                              display_labels=knn_val_model.classes_)\n",
    "disp.plot()\n"
   ]
  },
  {
   "cell_type": "code",
   "execution_count": null,
   "metadata": {},
   "outputs": [],
   "source": []
  },
  {
   "cell_type": "code",
   "execution_count": 43,
   "metadata": {},
   "outputs": [
    {
     "name": "stdout",
     "output_type": "stream",
     "text": [
      "Training Accuracy:  0.903\n",
      "Test Accuracy:  0.903\n",
      "Mean fit time:  0.222\n",
      "Best parameters of tree: {'criterion': 'gini', 'max_depth': 5, 'min_samples_split': 3}\n"
     ]
    }
   ],
   "source": [
    "# Decision tree model\n",
    "# Hyperparameters Tuning with GridSearchSV \n",
    "\n",
    "# Define the pipeline steps\n",
    "dtree_model = DecisionTreeClassifier()\n",
    "\n",
    "# Define hyperparameters for tuning\n",
    "criterion = ['gini', 'entropy', 'log_loss']\n",
    "max_depth = [2, 5, 10, 15, 20]\n",
    "min_samples_split = [2, 3, 5]\n",
    "\n",
    "\n",
    "# Create the parameter grid\n",
    "dtree_param_grid = {\"criterion\" : criterion,\n",
    "              \"max_depth\" : max_depth,\n",
    "              \"min_samples_split\":min_samples_split}\n",
    "\n",
    "dtree_grid_model = GridSearchCV(estimator=dtree_model,\n",
    "                          param_grid=dtree_param_grid,\n",
    "                          cv=5,\n",
    "                          scoring = \"accuracy\", \n",
    "                          n_jobs = -1,             # Use all available cores\n",
    "                          return_train_score=False) # Return training scores\n",
    "\n",
    "dtree_grid_model.fit(X_train, y_train)\n",
    "\n",
    "dtree_grid_cv_results = dtree_grid_model.cv_results_\n",
    "dtree_grid_best_params = dtree_grid_model.best_params_\n",
    "\n",
    "dtree_grid_train_acc = dtree_grid_model.score(X_train, y_train)\n",
    "dtree_grid_test_acc = dtree_grid_model.score(X_test, y_test)\n",
    "dtree_grid_mean_fit_time = np.mean(dtree_grid_cv_results.get('mean_fit_time'))\n",
    "\n",
    "### Summary results\n",
    "print(f'Training Accuracy: {dtree_grid_train_acc: .3f}')\n",
    "print(f'Test Accuracy: {dtree_grid_test_acc: .3f}')\n",
    "print(f'Mean fit time: {dtree_grid_mean_fit_time: .3f}')\n",
    "print(f'Best parameters of tree: {dtree_grid_best_params}')\n",
    "#print(f'Decision Tree model GSCV results: {dtree_grid_cv_results}')"
   ]
  },
  {
   "cell_type": "code",
   "execution_count": 44,
   "metadata": {},
   "outputs": [
    {
     "name": "stdout",
     "output_type": "stream",
     "text": [
      "Optimized DTree Model Accuracy:  0.903\n",
      "Optimized DTree Model Recall:  0.259\n",
      "Optimized DTree Model Precision:  0.678\n",
      "Optimized DTree Model F1 Score:  0.374\n"
     ]
    }
   ],
   "source": [
    "# Compute performance scores for accuracy optimized model\n",
    "dtree_val_model = DecisionTreeClassifier(max_depth = 5, min_samples_split = 3, criterion = 'gini')\n",
    "dtree_val_model.fit(X_train, y_train)\n",
    "y_dtree_pred = dtree_val_model.predict(X_test)\n",
    "dtree_val_model_acc = accuracy_score(y_test, y_dtree_pred)\n",
    "dtree_val_model_recall = recall_score(y_test, y_dtree_pred)\n",
    "dtree_val_model_precision = precision_score(y_test, y_dtree_pred)\n",
    "dtree_val_model_f1 = f1_score(y_test, y_dtree_pred)\n",
    "\n",
    "print(f'Optimized DTree Model Accuracy: {dtree_val_model_acc: .3f}')\n",
    "print(f'Optimized DTree Model Recall: {dtree_val_model_recall: .3f}')\n",
    "print(f'Optimized DTree Model Precision: {dtree_val_model_precision: .3f}')\n",
    "print(f'Optimized DTree Model F1 Score: {dtree_val_model_f1: .3f}')"
   ]
  },
  {
   "cell_type": "code",
   "execution_count": 45,
   "metadata": {},
   "outputs": [
    {
     "name": "stdout",
     "output_type": "stream",
     "text": [
      "              precision    recall  f1-score   support\n",
      "\n",
      "           0      0.913     0.984     0.947      7310\n",
      "           1      0.678     0.259     0.374       928\n",
      "\n",
      "    accuracy                          0.903      8238\n",
      "   macro avg      0.795     0.622     0.661      8238\n",
      "weighted avg      0.886     0.903     0.883      8238\n",
      "\n"
     ]
    }
   ],
   "source": [
    "# Compute classification report\n",
    "dtree_val_model_classification_report = classification_report(y_test, y_dtree_pred, digits=3)\n",
    "print(dtree_val_model_classification_report)"
   ]
  },
  {
   "cell_type": "code",
   "execution_count": 46,
   "metadata": {},
   "outputs": [
    {
     "data": {
      "text/plain": [
       "<sklearn.metrics._plot.confusion_matrix.ConfusionMatrixDisplay at 0x21f6315b320>"
      ]
     },
     "execution_count": 46,
     "metadata": {},
     "output_type": "execute_result"
    },
    {
     "data": {
      "image/png": "[encoded data removed]",
      "text/plain": [
       "<Figure size 640x480 with 2 Axes>"
      ]
     },
     "metadata": {},
     "output_type": "display_data"
    }
   ],
   "source": [
    "cm_dtree = confusion_matrix(y_test, y_dtree_pred, labels=dtree_val_model.classes_)\n",
    "disp = ConfusionMatrixDisplay(confusion_matrix=cm_dtree,\n",
    "                              display_labels=dtree_val_model.classes_)\n",
    "disp.plot()"
   ]
  },
  {
   "cell_type": "code",
   "execution_count": 47,
   "metadata": {},
   "outputs": [],
   "source": [
    "# Create summary pandas data frame"
   ]
  },
  {
   "cell_type": "code",
   "execution_count": 48,
   "metadata": {},
   "outputs": [],
   "source": [
    "d2 = {'Model': ['Logistic Regression', 'KNN', 'Decision Tree', 'SVM'],\n",
    "     'Fit Time': [lr_grid_mean_fit_time, knn_grid_mean_fit_time, dtree_grid_mean_fit_time, svm_grid_mean_fit_time],\n",
    "     'Test Accuracy': [lr_val_model_acc, knn_val_model_acc, dtree_val_model_acc, svm_val_model_acc],\n",
    "     'Test Recall': [lr_val_model_recall, knn_val_model_recall, dtree_val_model_recall, svm_val_model_recall],\n",
    "     'Test Precision': [lr_val_model_precision, knn_val_model_precision, dtree_val_model_precision, svm_val_model_precision],\n",
    "     'Test F1': [lr_val_model_f1, knn_val_model_f1, dtree_val_model_f1, svm_val_model_f1]}\n",
    "results_df2 = pd.DataFrame(data=d2)\n",
    "results_df2.set_index('Model', inplace = True)\n",
    "\n",
    "\n"
   ]
  },
  {
   "cell_type": "code",
   "execution_count": 49,
   "metadata": {},
   "outputs": [
    {
     "name": "stdout",
     "output_type": "stream",
     "text": [
      "Summary model results optimized for accuracy scores\n"
     ]
    },
    {
     "data": {
      "text/html": [
       "<div>\n",
       "<style scoped>\n",
       "    .dataframe tbody tr th:only-of-type {\n",
       "        vertical-align: middle;\n",
       "    }\n",
       "\n",
       "    .dataframe tbody tr th {\n",
       "        vertical-align: top;\n",
       "    }\n",
       "\n",
       "    .dataframe thead th {\n",
       "        text-align: right;\n",
       "    }\n",
       "</style>\n",
       "<table border=\"1\" class=\"dataframe\">\n",
       "  <thead>\n",
       "    <tr style=\"text-align: right;\">\n",
       "      <th></th>\n",
       "      <th>Fit Time</th>\n",
       "      <th>Test Accuracy</th>\n",
       "      <th>Test Recall</th>\n",
       "      <th>Test Precision</th>\n",
       "      <th>Test F1</th>\n",
       "    </tr>\n",
       "    <tr>\n",
       "      <th>Model</th>\n",
       "      <th></th>\n",
       "      <th></th>\n",
       "      <th></th>\n",
       "      <th></th>\n",
       "      <th></th>\n",
       "    </tr>\n",
       "  </thead>\n",
       "  <tbody>\n",
       "    <tr>\n",
       "      <th>Logistic Regression</th>\n",
       "      <td>35.058125</td>\n",
       "      <td>0.901797</td>\n",
       "      <td>0.217672</td>\n",
       "      <td>0.708772</td>\n",
       "      <td>0.333059</td>\n",
       "    </tr>\n",
       "    <tr>\n",
       "      <th>KNN</th>\n",
       "      <td>0.025648</td>\n",
       "      <td>0.900947</td>\n",
       "      <td>0.218750</td>\n",
       "      <td>0.690476</td>\n",
       "      <td>0.332242</td>\n",
       "    </tr>\n",
       "    <tr>\n",
       "      <th>Decision Tree</th>\n",
       "      <td>0.221945</td>\n",
       "      <td>0.902646</td>\n",
       "      <td>0.258621</td>\n",
       "      <td>0.677966</td>\n",
       "      <td>0.374415</td>\n",
       "    </tr>\n",
       "    <tr>\n",
       "      <th>SVM</th>\n",
       "      <td>661.531518</td>\n",
       "      <td>0.903010</td>\n",
       "      <td>0.246767</td>\n",
       "      <td>0.696049</td>\n",
       "      <td>0.364360</td>\n",
       "    </tr>\n",
       "  </tbody>\n",
       "</table>\n",
       "</div>"
      ],
      "text/plain": [
       "                       Fit Time  Test Accuracy  Test Recall  Test Precision  \\\n",
       "Model                                                                         \n",
       "Logistic Regression   35.058125       0.901797     0.217672        0.708772   \n",
       "KNN                    0.025648       0.900947     0.218750        0.690476   \n",
       "Decision Tree          0.221945       0.902646     0.258621        0.677966   \n",
       "SVM                  661.531518       0.903010     0.246767        0.696049   \n",
       "\n",
       "                      Test F1  \n",
       "Model                          \n",
       "Logistic Regression  0.333059  \n",
       "KNN                  0.332242  \n",
       "Decision Tree        0.374415  \n",
       "SVM                  0.364360  "
      ]
     },
     "execution_count": 49,
     "metadata": {},
     "output_type": "execute_result"
    }
   ],
   "source": [
    "print('Summary model results optimized for accuracy scores')\n",
    "results_df2"
   ]
  },
  {
   "cell_type": "code",
   "execution_count": null,
   "metadata": {},
   "outputs": [],
   "source": []
  },
  {
   "cell_type": "markdown",
   "metadata": {},
   "source": [
    "#### Adjust performance metric \n",
    "\n",
    "We observed there is the opportunity for precision scores to be increased. In this section we optimize model hyperparameters for precision as an alternative metric, seeking to reduce FP numbers and increase precision scores."
   ]
  },
  {
   "cell_type": "code",
   "execution_count": null,
   "metadata": {},
   "outputs": [],
   "source": []
  },
  {
   "cell_type": "code",
   "execution_count": 50,
   "metadata": {},
   "outputs": [
    {
     "name": "stderr",
     "output_type": "stream",
     "text": [
      "C:\\Users\\accg2\\anaconda3\\Lib\\site-packages\\sklearn\\model_selection\\_validation.py:540: FitFailedWarning: \n",
      "200 fits failed out of a total of 800.\n",
      "The score on these train-test partitions for these parameters will be set to nan.\n",
      "If these failures are not expected, you can try to debug them by setting error_score='raise'.\n",
      "\n",
      "Below are more details about the failures:\n",
      "--------------------------------------------------------------------------------\n",
      "100 fits failed with the following error:\n",
      "Traceback (most recent call last):\n",
      "  File \"C:\\Users\\accg2\\anaconda3\\Lib\\site-packages\\sklearn\\model_selection\\_validation.py\", line 888, in _fit_and_score\n",
      "    estimator.fit(X_train, y_train, **fit_params)\n",
      "  File \"C:\\Users\\accg2\\anaconda3\\Lib\\site-packages\\sklearn\\base.py\", line 1473, in wrapper\n",
      "    return fit_method(estimator, *args, **kwargs)\n",
      "           ^^^^^^^^^^^^^^^^^^^^^^^^^^^^^^^^^^^^^^\n",
      "  File \"C:\\Users\\accg2\\anaconda3\\Lib\\site-packages\\sklearn\\pipeline.py\", line 473, in fit\n",
      "    self._final_estimator.fit(Xt, y, **last_step_params[\"fit\"])\n",
      "  File \"C:\\Users\\accg2\\anaconda3\\Lib\\site-packages\\sklearn\\base.py\", line 1473, in wrapper\n",
      "    return fit_method(estimator, *args, **kwargs)\n",
      "           ^^^^^^^^^^^^^^^^^^^^^^^^^^^^^^^^^^^^^^\n",
      "  File \"C:\\Users\\accg2\\anaconda3\\Lib\\site-packages\\sklearn\\linear_model\\_logistic.py\", line 1194, in fit\n",
      "    solver = _check_solver(self.solver, self.penalty, self.dual)\n",
      "             ^^^^^^^^^^^^^^^^^^^^^^^^^^^^^^^^^^^^^^^^^^^^^^^^^^^\n",
      "  File \"C:\\Users\\accg2\\anaconda3\\Lib\\site-packages\\sklearn\\linear_model\\_logistic.py\", line 67, in _check_solver\n",
      "    raise ValueError(\n",
      "ValueError: Solver lbfgs supports only 'l2' or None penalties, got l1 penalty.\n",
      "\n",
      "--------------------------------------------------------------------------------\n",
      "100 fits failed with the following error:\n",
      "Traceback (most recent call last):\n",
      "  File \"C:\\Users\\accg2\\anaconda3\\Lib\\site-packages\\sklearn\\model_selection\\_validation.py\", line 888, in _fit_and_score\n",
      "    estimator.fit(X_train, y_train, **fit_params)\n",
      "  File \"C:\\Users\\accg2\\anaconda3\\Lib\\site-packages\\sklearn\\base.py\", line 1473, in wrapper\n",
      "    return fit_method(estimator, *args, **kwargs)\n",
      "           ^^^^^^^^^^^^^^^^^^^^^^^^^^^^^^^^^^^^^^\n",
      "  File \"C:\\Users\\accg2\\anaconda3\\Lib\\site-packages\\sklearn\\pipeline.py\", line 473, in fit\n",
      "    self._final_estimator.fit(Xt, y, **last_step_params[\"fit\"])\n",
      "  File \"C:\\Users\\accg2\\anaconda3\\Lib\\site-packages\\sklearn\\base.py\", line 1473, in wrapper\n",
      "    return fit_method(estimator, *args, **kwargs)\n",
      "           ^^^^^^^^^^^^^^^^^^^^^^^^^^^^^^^^^^^^^^\n",
      "  File \"C:\\Users\\accg2\\anaconda3\\Lib\\site-packages\\sklearn\\linear_model\\_logistic.py\", line 1194, in fit\n",
      "    solver = _check_solver(self.solver, self.penalty, self.dual)\n",
      "             ^^^^^^^^^^^^^^^^^^^^^^^^^^^^^^^^^^^^^^^^^^^^^^^^^^^\n",
      "  File \"C:\\Users\\accg2\\anaconda3\\Lib\\site-packages\\sklearn\\linear_model\\_logistic.py\", line 67, in _check_solver\n",
      "    raise ValueError(\n",
      "ValueError: Solver sag supports only 'l2' or None penalties, got l1 penalty.\n",
      "\n",
      "  warnings.warn(some_fits_failed_message, FitFailedWarning)\n",
      "C:\\Users\\accg2\\anaconda3\\Lib\\site-packages\\sklearn\\model_selection\\_search.py:1102: UserWarning: One or more of the test scores are non-finite: [       nan 0.65754928        nan 0.66025677 0.6549855  0.65577813\n",
      " 0.65626976 0.65626976        nan 0.65431907        nan 0.65581494\n",
      " 0.65251557 0.65149385 0.65235036 0.65235036        nan 0.65345441\n",
      "        nan 0.65244883 0.64926867 0.65028702 0.65011923 0.65011923\n",
      "        nan 0.64928722        nan 0.65086808 0.64868297 0.65012271\n",
      " 0.65037502 0.65037502        nan 0.65058919        nan 0.65063615\n",
      " 0.64926808 0.64959681 0.64959681 0.64959681        nan 0.64959681\n",
      "        nan 0.65012271 0.6487019  0.64959681 0.64959681 0.64959681\n",
      "        nan 0.64959681        nan 0.65012271 0.64839506 0.64907499\n",
      " 0.64907499 0.64907499        nan 0.64907499        nan 0.64959681\n",
      " 0.64870385 0.64907499 0.64907499 0.64907499        nan 0.64907499\n",
      "        nan 0.64907499 0.64931497 0.64907499 0.64907499 0.64907499\n",
      "        nan 0.64907499        nan 0.64907499 0.64901068 0.64907499\n",
      " 0.64907499 0.64907499        nan 0.64907499        nan 0.64907499\n",
      " 0.64901068 0.64907499 0.64907499 0.64907499        nan 0.64985018\n",
      "        nan 0.64907499 0.64901068 0.64907499 0.64907499 0.64907499\n",
      "        nan 0.64959966        nan 0.64907499 0.64901068 0.64907499\n",
      " 0.64907499 0.64907499        nan 0.64907499        nan 0.64907499\n",
      " 0.64901068 0.64907499 0.64907499 0.64907499        nan 0.64907499\n",
      "        nan 0.64907499 0.64901068 0.64907499 0.64907499 0.64907499\n",
      "        nan 0.6493294         nan 0.64907499 0.64901068 0.64907499\n",
      " 0.64907499 0.64907499        nan 0.64907499        nan 0.64907499\n",
      " 0.64901068 0.64907499 0.64907499 0.64907499        nan 0.64907499\n",
      "        nan 0.64907499 0.64901068 0.64907499 0.64907499 0.64907499\n",
      "        nan 0.64907499        nan 0.64907499 0.64901068 0.64907499\n",
      " 0.64907499 0.64907499        nan 0.64907499        nan 0.64907499\n",
      " 0.64901068 0.64907499 0.64907499 0.64907499]\n",
      "  warnings.warn(\n"
     ]
    },
    {
     "name": "stdout",
     "output_type": "stream",
     "text": [
      "Training Accuracy:  0.664\n",
      "Test Accuracy:  0.709\n",
      "Mean fit time:  34.942\n",
      "Best parameters of LR: {'logistic__C': 0.1, 'logistic__penalty': 'l1', 'logistic__solver': 'saga'}\n"
     ]
    }
   ],
   "source": [
    "# Logistic regression model\n",
    "# Hyperparameters Tuning with GridSearchSV \n",
    "\n",
    "# Define the pipeline steps\n",
    "lr_model = Pipeline([(\"logistic\", LogisticRegression(max_iter = 10000))])\n",
    "\n",
    "# Define hyperparameters for tuning\n",
    "penalty = [\"l1\", \"l2\"]       # Regularization terms: l1 (Lasso) and l2 (Ridge)\n",
    "C = np.logspace(-1, 5, 20)   # Regularization strength; inverse of regularization parameter\n",
    "solver = [\"lbfgs\", \"liblinear\", \"sag\", \"saga\"]  # Optimization algorithms\n",
    "\n",
    "# Create the parameter grid\n",
    "lr_param_grid = {\"logistic__penalty\" : penalty,\n",
    "              \"logistic__C\" : C,\n",
    "              \"logistic__solver\":solver}\n",
    "\n",
    "lr_grid_model = GridSearchCV(estimator=lr_model,\n",
    "                          param_grid=lr_param_grid,\n",
    "                          cv=5,\n",
    "                          scoring = \"precision\", \n",
    "                          n_jobs = -1,             # Use all available cores\n",
    "                          return_train_score=False) # Return training scores\n",
    "\n",
    "lr_grid_model.fit(X_train, y_train)\n",
    "\n",
    "lr_grid_cv_results = lr_grid_model.cv_results_\n",
    "lr_grid_best_params = lr_grid_model.best_params_\n",
    "\n",
    "lr_grid_train_acc = lr_grid_model.score(X_train, y_train)\n",
    "lr_grid_test_acc = lr_grid_model.score(X_test, y_test)\n",
    "lr_grid_mean_fit_time = np.mean(lr_grid_cv_results.get('mean_fit_time'))\n",
    "\n",
    "### Summary results\n",
    "print(f'Training Accuracy: {lr_grid_train_acc: .3f}')\n",
    "print(f'Test Accuracy: {lr_grid_test_acc: .3f}')\n",
    "print(f'Mean fit time: {lr_grid_mean_fit_time: .3f}')\n",
    "print(f'Best parameters of LR: {lr_grid_best_params}')\n",
    "#print(f'Logistic regression GSCV results: {lr_grid_cv_results}')"
   ]
  },
  {
   "cell_type": "code",
   "execution_count": 51,
   "metadata": {},
   "outputs": [
    {
     "name": "stdout",
     "output_type": "stream",
     "text": [
      "Optimized LR Model Accuracy:  0.902\n",
      "Optimized LR Model Recall:  0.218\n",
      "Optimized LR Model Precision:  0.709\n",
      "Optimized LR Model F1 Score:  0.333\n"
     ]
    }
   ],
   "source": [
    "# Compute performance scores for precision optimized model\n",
    "lr_val_model = LogisticRegression(penalty = 'l1', C = 0.1, solver = 'saga',max_iter = 10000)\n",
    "lr_val_model.fit(X_train, y_train)\n",
    "y_lr_pred = lr_val_model.predict(X_test)\n",
    "lr_val_model_acc = accuracy_score(y_test, y_lr_pred)\n",
    "lr_val_model_recall = recall_score(y_test, y_lr_pred)\n",
    "lr_val_model_precision = precision_score(y_test, y_lr_pred)\n",
    "lr_val_model_f1 = f1_score(y_test, y_lr_pred)\n",
    "\n",
    "print(f'Optimized LR Model Accuracy: {lr_val_model_acc: .3f}')\n",
    "print(f'Optimized LR Model Recall: {lr_val_model_recall: .3f}')\n",
    "print(f'Optimized LR Model Precision: {lr_val_model_precision: .3f}')\n",
    "print(f'Optimized LR Model F1 Score: {lr_val_model_f1: .3f}')\n"
   ]
  },
  {
   "cell_type": "code",
   "execution_count": 52,
   "metadata": {},
   "outputs": [
    {
     "name": "stdout",
     "output_type": "stream",
     "text": [
      "              precision    recall  f1-score   support\n",
      "\n",
      "           0      0.909     0.989     0.947      7310\n",
      "           1      0.709     0.218     0.333       928\n",
      "\n",
      "    accuracy                          0.902      8238\n",
      "   macro avg      0.809     0.603     0.640      8238\n",
      "weighted avg      0.886     0.902     0.878      8238\n",
      "\n"
     ]
    }
   ],
   "source": [
    "# Compute classification report\n",
    "lr_val_model_classification_report = classification_report(y_test, y_lr_pred, digits=3)\n",
    "print(lr_val_model_classification_report)\n"
   ]
  },
  {
   "cell_type": "code",
   "execution_count": 53,
   "metadata": {},
   "outputs": [
    {
     "data": {
      "text/plain": [
       "<sklearn.metrics._plot.confusion_matrix.ConfusionMatrixDisplay at 0x21f58c72b10>"
      ]
     },
     "execution_count": 53,
     "metadata": {},
     "output_type": "execute_result"
    },
    {
     "data": {
      "image/png": "[encoded data removed]",
      "text/plain": [
       "<Figure size 640x480 with 2 Axes>"
      ]
     },
     "metadata": {},
     "output_type": "display_data"
    }
   ],
   "source": [
    "# Compute and display confusion matrix\n",
    "cm_lr = confusion_matrix(y_test, y_lr_pred, labels=lr_val_model.classes_)\n",
    "disp = ConfusionMatrixDisplay(confusion_matrix=cm_lr,\n",
    "                              display_labels=lr_val_model.classes_)\n",
    "disp.plot()\n"
   ]
  },
  {
   "cell_type": "code",
   "execution_count": null,
   "metadata": {},
   "outputs": [],
   "source": []
  },
  {
   "cell_type": "code",
   "execution_count": 54,
   "metadata": {},
   "outputs": [
    {
     "name": "stdout",
     "output_type": "stream",
     "text": [
      "Training Accuracy:  0.702\n",
      "Test Accuracy:  0.732\n",
      "Mean fit time:  659.170\n",
      "Best parameters of SVM: {'C': 0.01, 'kernel': 'poly'}\n"
     ]
    }
   ],
   "source": [
    "# SVM model\n",
    "# Hyperparameters Tuning with GridSearchSV \n",
    "\n",
    "# Define the pipeline steps\n",
    "svm_model = SVC()\n",
    "\n",
    "# Define hyperparameters for tuning\n",
    "C = [0.01, 0.1, 1.0, 10] # Regularization strength; inverse of regularization parameter\n",
    "kernel = ['rbf', 'poly', 'linear', 'sigmoid']\n",
    "\n",
    "# Create the parameter grid\n",
    "svm_param_grid = {\"kernel\" : kernel,\n",
    "              \"C\" : C}\n",
    "\n",
    "svm_grid_model = GridSearchCV(estimator=svm_model,\n",
    "                          param_grid=svm_param_grid,\n",
    "                          cv=5,\n",
    "                          scoring = \"precision\", \n",
    "                          n_jobs = -1,             # Use all available cores\n",
    "                          return_train_score=False) # Return training scores\n",
    "\n",
    "svm_grid_model.fit(X_train, y_train)\n",
    "\n",
    "svm_grid_cv_results = svm_grid_model.cv_results_\n",
    "svm_grid_best_params = svm_grid_model.best_params_\n",
    "\n",
    "svm_grid_train_acc = svm_grid_model.score(X_train, y_train)\n",
    "svm_grid_test_acc = svm_grid_model.score(X_test, y_test)\n",
    "svm_grid_mean_fit_time = np.mean(svm_grid_cv_results.get('mean_fit_time'))\n",
    "\n",
    "### Summary results\n",
    "print(f'Training Accuracy: {svm_grid_train_acc: .3f}')\n",
    "print(f'Test Accuracy: {svm_grid_test_acc: .3f}')\n",
    "print(f'Mean fit time: {svm_grid_mean_fit_time: .3f}')\n",
    "print(f'Best parameters of SVM: {svm_grid_best_params}')\n",
    "#print(f'SVM model GSCV results: {svm_grid_cv_results}')"
   ]
  },
  {
   "cell_type": "code",
   "execution_count": 55,
   "metadata": {},
   "outputs": [
    {
     "name": "stdout",
     "output_type": "stream",
     "text": [
      "Optimized SVM Model Accuracy:  0.900\n",
      "Optimized SVM Model Recall:  0.180\n",
      "Optimized SVM Model Precision:  0.732\n",
      "Optimized SVM Model F1 Score:  0.289\n"
     ]
    }
   ],
   "source": [
    "# Compute performance scores for precision optimized model\n",
    "svm_val_model = SVC(C = 0.01, kernel = 'poly')\n",
    "svm_val_model.fit(X_train, y_train)\n",
    "y_svm_pred = svm_val_model.predict(X_test)\n",
    "svm_val_model_acc = accuracy_score(y_test, y_svm_pred)\n",
    "svm_val_model_recall = recall_score(y_test, y_svm_pred)\n",
    "svm_val_model_precision = precision_score(y_test, y_svm_pred)\n",
    "svm_val_model_f1 = f1_score(y_test, y_svm_pred)\n",
    "\n",
    "print(f'Optimized SVM Model Accuracy: {svm_val_model_acc: .3f}')\n",
    "print(f'Optimized SVM Model Recall: {svm_val_model_recall: .3f}')\n",
    "print(f'Optimized SVM Model Precision: {svm_val_model_precision: .3f}')\n",
    "print(f'Optimized SVM Model F1 Score: {svm_val_model_f1: .3f}')\n"
   ]
  },
  {
   "cell_type": "code",
   "execution_count": 56,
   "metadata": {},
   "outputs": [
    {
     "name": "stdout",
     "output_type": "stream",
     "text": [
      "              precision    recall  f1-score   support\n",
      "\n",
      "           0      0.905     0.992     0.946      7310\n",
      "           1      0.732     0.180     0.289       928\n",
      "\n",
      "    accuracy                          0.900      8238\n",
      "   macro avg      0.819     0.586     0.618      8238\n",
      "weighted avg      0.886     0.900     0.872      8238\n",
      "\n"
     ]
    }
   ],
   "source": [
    "# Compute classification report\n",
    "svm_val_model_classification_report = classification_report(y_test, y_svm_pred, digits=3)\n",
    "print(svm_val_model_classification_report)"
   ]
  },
  {
   "cell_type": "code",
   "execution_count": 57,
   "metadata": {},
   "outputs": [
    {
     "data": {
      "text/plain": [
       "<sklearn.metrics._plot.confusion_matrix.ConfusionMatrixDisplay at 0x21f5cb6c1d0>"
      ]
     },
     "execution_count": 57,
     "metadata": {},
     "output_type": "execute_result"
    },
    {
     "data": {
      "image/png": "[encoded data removed]",
      "text/plain": [
       "<Figure size 640x480 with 2 Axes>"
      ]
     },
     "metadata": {},
     "output_type": "display_data"
    }
   ],
   "source": [
    "cm_svm = confusion_matrix(y_test, y_svm_pred, labels=svm_val_model.classes_)\n",
    "disp = ConfusionMatrixDisplay(confusion_matrix=cm_svm,\n",
    "                              display_labels=svm_val_model.classes_)\n",
    "disp.plot()\n"
   ]
  },
  {
   "cell_type": "code",
   "execution_count": null,
   "metadata": {},
   "outputs": [],
   "source": []
  },
  {
   "cell_type": "code",
   "execution_count": 58,
   "metadata": {},
   "outputs": [
    {
     "name": "stdout",
     "output_type": "stream",
     "text": [
      "Training Accuracy:  0.697\n",
      "Test Accuracy:  0.672\n",
      "Mean fit time:  0.033\n",
      "Best parameters of KNN: {'n_neighbors': 20, 'p': 1, 'weights': 'uniform'}\n"
     ]
    }
   ],
   "source": [
    "# KNN model\n",
    "# Hyperparameters Tuning with GridSearchSV \n",
    "\n",
    "# Define the pipeline steps\n",
    "knn_model = KNeighborsClassifier()\n",
    "\n",
    "# Define hyperparameters for tuning\n",
    "n_neighbors = [2, 5, 10, 20]\n",
    "p = [1, 2, 3]\n",
    "weight_options = ['uniform', 'distance']\n",
    "\n",
    "\n",
    "# Create the parameter grid\n",
    "knn_param_grid = {\"n_neighbors\" : n_neighbors,\n",
    "              \"p\" : p,\n",
    "              \"weights\":weight_options}\n",
    "\n",
    "knn_grid_model = GridSearchCV(estimator=knn_model,\n",
    "                          param_grid=knn_param_grid,\n",
    "                          cv=5,\n",
    "                          scoring = \"precision\", \n",
    "                          n_jobs = -1,             # Use all available cores\n",
    "                          return_train_score=False) # Return training scores\n",
    "\n",
    "knn_grid_model.fit(X_train, y_train)\n",
    "\n",
    "knn_grid_cv_results = knn_grid_model.cv_results_\n",
    "knn_grid_best_params = knn_grid_model.best_params_\n",
    "\n",
    "knn_grid_train_acc = knn_grid_model.score(X_train, y_train)\n",
    "knn_grid_test_acc = knn_grid_model.score(X_test, y_test)\n",
    "knn_grid_mean_fit_time = np.mean(knn_grid_cv_results.get('mean_fit_time'))\n",
    "\n",
    "### Summary results\n",
    "print(f'Training Accuracy: {knn_grid_train_acc: .3f}')\n",
    "print(f'Test Accuracy: {knn_grid_test_acc: .3f}')\n",
    "print(f'Mean fit time: {knn_grid_mean_fit_time: .3f}')\n",
    "print(f'Best parameters of KNN: {knn_grid_best_params}')\n",
    "#print(f'KNN model GSCV results: {knn_grid_cv_results}')"
   ]
  },
  {
   "cell_type": "code",
   "execution_count": 59,
   "metadata": {},
   "outputs": [
    {
     "name": "stdout",
     "output_type": "stream",
     "text": [
      "Optimized KNN Model Accuracy:  0.899\n",
      "Optimized KNN Model Recall:  0.210\n",
      "Optimized KNN Model Precision:  0.672\n",
      "Optimized KNN Model F1 Score:  0.320\n"
     ]
    }
   ],
   "source": [
    "# Compute performance scores for precision optimized model\n",
    "knn_val_model = KNeighborsClassifier(n_neighbors = 20, p = 1, weights = 'uniform')\n",
    "knn_val_model.fit(X_train, y_train)\n",
    "y_knn_pred = knn_val_model.predict(X_test)\n",
    "knn_val_model_acc = accuracy_score(y_test, y_knn_pred)\n",
    "knn_val_model_recall = recall_score(y_test, y_knn_pred)\n",
    "knn_val_model_precision = precision_score(y_test, y_knn_pred)\n",
    "knn_val_model_f1 = f1_score(y_test, y_knn_pred)\n",
    "\n",
    "print(f'Optimized KNN Model Accuracy: {knn_val_model_acc: .3f}')\n",
    "print(f'Optimized KNN Model Recall: {knn_val_model_recall: .3f}')\n",
    "print(f'Optimized KNN Model Precision: {knn_val_model_precision: .3f}')\n",
    "print(f'Optimized KNN Model F1 Score: {knn_val_model_f1: .3f}')"
   ]
  },
  {
   "cell_type": "code",
   "execution_count": 60,
   "metadata": {},
   "outputs": [
    {
     "name": "stdout",
     "output_type": "stream",
     "text": [
      "              precision    recall  f1-score   support\n",
      "\n",
      "           0      0.908     0.987     0.946      7310\n",
      "           1      0.672     0.210     0.320       928\n",
      "\n",
      "    accuracy                          0.899      8238\n",
      "   macro avg      0.790     0.599     0.633      8238\n",
      "weighted avg      0.881     0.899     0.875      8238\n",
      "\n"
     ]
    }
   ],
   "source": [
    "# Compute classification report\n",
    "knn_val_model_classification_report = classification_report(y_test, y_knn_pred, digits=3)\n",
    "print(knn_val_model_classification_report)"
   ]
  },
  {
   "cell_type": "code",
   "execution_count": 61,
   "metadata": {},
   "outputs": [
    {
     "data": {
      "text/plain": [
       "<sklearn.metrics._plot.confusion_matrix.ConfusionMatrixDisplay at 0x21f5cb6f1a0>"
      ]
     },
     "execution_count": 61,
     "metadata": {},
     "output_type": "execute_result"
    },
    {
     "data": {
      "image/png": "[encoded data removed]",
      "text/plain": [
       "<Figure size 640x480 with 2 Axes>"
      ]
     },
     "metadata": {},
     "output_type": "display_data"
    }
   ],
   "source": [
    "cm_knn = confusion_matrix(y_test, y_knn_pred, labels=knn_val_model.classes_)\n",
    "disp = ConfusionMatrixDisplay(confusion_matrix=cm_knn,\n",
    "                              display_labels=knn_val_model.classes_)\n",
    "disp.plot()\n"
   ]
  },
  {
   "cell_type": "code",
   "execution_count": null,
   "metadata": {},
   "outputs": [],
   "source": []
  },
  {
   "cell_type": "code",
   "execution_count": 62,
   "metadata": {},
   "outputs": [
    {
     "name": "stdout",
     "output_type": "stream",
     "text": [
      "Training Accuracy:  0.704\n",
      "Test Accuracy:  0.738\n",
      "Mean fit time:  0.214\n",
      "Best parameters of tree: {'criterion': 'entropy', 'max_depth': 2, 'min_samples_split': 2}\n"
     ]
    }
   ],
   "source": [
    "# Decision tree model\n",
    "# Hyperparameters Tuning with GridSearchSV \n",
    "\n",
    "# Define the pipeline steps\n",
    "dtree_model = DecisionTreeClassifier()\n",
    "\n",
    "# Define hyperparameters for tuning\n",
    "criterion = ['gini', 'entropy', 'log_loss']\n",
    "max_depth = [2, 5, 10, 15, 20]\n",
    "min_samples_split = [2, 3, 5]\n",
    "\n",
    "\n",
    "# Create the parameter grid\n",
    "dtree_param_grid = {\"criterion\" : criterion,\n",
    "              \"max_depth\" : max_depth,\n",
    "              \"min_samples_split\":min_samples_split}\n",
    "\n",
    "dtree_grid_model = GridSearchCV(estimator=dtree_model,\n",
    "                          param_grid=dtree_param_grid,\n",
    "                          cv=5,\n",
    "                          scoring = \"precision\", \n",
    "                          n_jobs = -1,             # Use all available cores\n",
    "                          return_train_score=False) # Return training scores\n",
    "\n",
    "dtree_grid_model.fit(X_train, y_train)\n",
    "\n",
    "dtree_grid_cv_results = dtree_grid_model.cv_results_\n",
    "dtree_grid_best_params = dtree_grid_model.best_params_\n",
    "\n",
    "dtree_grid_train_acc = dtree_grid_model.score(X_train, y_train)\n",
    "dtree_grid_test_acc = dtree_grid_model.score(X_test, y_test)\n",
    "dtree_grid_mean_fit_time = np.mean(dtree_grid_cv_results.get('mean_fit_time'))\n",
    "\n",
    "### Summary results\n",
    "print(f'Training Accuracy: {dtree_grid_train_acc: .3f}')\n",
    "print(f'Test Accuracy: {dtree_grid_test_acc: .3f}')\n",
    "print(f'Mean fit time: {dtree_grid_mean_fit_time: .3f}')\n",
    "print(f'Best parameters of tree: {dtree_grid_best_params}')\n",
    "#print(f'Decision Tree model GSCV results: {dtree_grid_cv_results}')"
   ]
  },
  {
   "cell_type": "code",
   "execution_count": 63,
   "metadata": {},
   "outputs": [
    {
     "name": "stdout",
     "output_type": "stream",
     "text": [
      "Optimized DTree Model Accuracy:  0.900\n",
      "Optimized DTree Model Recall:  0.170\n",
      "Optimized DTree Model Precision:  0.738\n",
      "Optimized DTree Model F1 Score:  0.277\n"
     ]
    }
   ],
   "source": [
    "# Compute performance scores for precision optimized model\n",
    "dtree_val_model = DecisionTreeClassifier(max_depth = 2, min_samples_split = 2, criterion = 'entropy')\n",
    "dtree_val_model.fit(X_train, y_train)\n",
    "y_dtree_pred = dtree_val_model.predict(X_test)\n",
    "dtree_val_model_acc = accuracy_score(y_test, y_dtree_pred)\n",
    "dtree_val_model_recall = recall_score(y_test, y_dtree_pred)\n",
    "dtree_val_model_precision = precision_score(y_test, y_dtree_pred)\n",
    "dtree_val_model_f1 = f1_score(y_test, y_dtree_pred)\n",
    "\n",
    "print(f'Optimized DTree Model Accuracy: {dtree_val_model_acc: .3f}')\n",
    "print(f'Optimized DTree Model Recall: {dtree_val_model_recall: .3f}')\n",
    "print(f'Optimized DTree Model Precision: {dtree_val_model_precision: .3f}')\n",
    "print(f'Optimized DTree Model F1 Score: {dtree_val_model_f1: .3f}')"
   ]
  },
  {
   "cell_type": "code",
   "execution_count": 64,
   "metadata": {},
   "outputs": [
    {
     "name": "stdout",
     "output_type": "stream",
     "text": [
      "              precision    recall  f1-score   support\n",
      "\n",
      "           0      0.904     0.992     0.946      7310\n",
      "           1      0.738     0.170     0.277       928\n",
      "\n",
      "    accuracy                          0.900      8238\n",
      "   macro avg      0.821     0.581     0.611      8238\n",
      "weighted avg      0.885     0.900     0.871      8238\n",
      "\n"
     ]
    }
   ],
   "source": [
    "# Compute classification report\n",
    "dtree_val_model_classification_report = classification_report(y_test, y_dtree_pred, digits=3)\n",
    "print(dtree_val_model_classification_report)"
   ]
  },
  {
   "cell_type": "code",
   "execution_count": 65,
   "metadata": {},
   "outputs": [
    {
     "data": {
      "text/plain": [
       "<sklearn.metrics._plot.confusion_matrix.ConfusionMatrixDisplay at 0x21f61c15820>"
      ]
     },
     "execution_count": 65,
     "metadata": {},
     "output_type": "execute_result"
    },
    {
     "data": {
      "image/png": "[encoded data removed]",
      "text/plain": [
       "<Figure size 640x480 with 2 Axes>"
      ]
     },
     "metadata": {},
     "output_type": "display_data"
    }
   ],
   "source": [
    "cm_dtree = confusion_matrix(y_test, y_dtree_pred, labels=dtree_val_model.classes_)\n",
    "disp = ConfusionMatrixDisplay(confusion_matrix=cm_dtree,\n",
    "                              display_labels=dtree_val_model.classes_)\n",
    "disp.plot()"
   ]
  },
  {
   "cell_type": "code",
   "execution_count": 66,
   "metadata": {},
   "outputs": [],
   "source": [
    "# Create summary pandas data frame"
   ]
  },
  {
   "cell_type": "code",
   "execution_count": 67,
   "metadata": {},
   "outputs": [],
   "source": [
    "d3 = {'Model': ['Logistic Regression', 'KNN', 'Decision Tree', 'SVM'],\n",
    "     'Fit Time': [lr_grid_mean_fit_time, knn_grid_mean_fit_time, dtree_grid_mean_fit_time, svm_grid_mean_fit_time],\n",
    "     'Test Accuracy': [lr_val_model_acc, knn_val_model_acc, dtree_val_model_acc, svm_val_model_acc],\n",
    "     'Test Recall': [lr_val_model_recall, knn_val_model_recall, dtree_val_model_recall, svm_val_model_recall],\n",
    "     'Test Precision': [lr_val_model_precision, knn_val_model_precision, dtree_val_model_precision, svm_val_model_precision],\n",
    "     'Test F1': [lr_val_model_f1, knn_val_model_f1, dtree_val_model_f1, svm_val_model_f1]}\n",
    "results_df3 = pd.DataFrame(data=d3)\n",
    "results_df3.set_index('Model', inplace = True)\n",
    "\n",
    "\n"
   ]
  },
  {
   "cell_type": "code",
   "execution_count": 68,
   "metadata": {},
   "outputs": [
    {
     "name": "stdout",
     "output_type": "stream",
     "text": [
      "Summary model results optimized for precision scores\n"
     ]
    },
    {
     "data": {
      "text/html": [
       "<div>\n",
       "<style scoped>\n",
       "    .dataframe tbody tr th:only-of-type {\n",
       "        vertical-align: middle;\n",
       "    }\n",
       "\n",
       "    .dataframe tbody tr th {\n",
       "        vertical-align: top;\n",
       "    }\n",
       "\n",
       "    .dataframe thead th {\n",
       "        text-align: right;\n",
       "    }\n",
       "</style>\n",
       "<table border=\"1\" class=\"dataframe\">\n",
       "  <thead>\n",
       "    <tr style=\"text-align: right;\">\n",
       "      <th></th>\n",
       "      <th>Fit Time</th>\n",
       "      <th>Test Accuracy</th>\n",
       "      <th>Test Recall</th>\n",
       "      <th>Test Precision</th>\n",
       "      <th>Test F1</th>\n",
       "    </tr>\n",
       "    <tr>\n",
       "      <th>Model</th>\n",
       "      <th></th>\n",
       "      <th></th>\n",
       "      <th></th>\n",
       "      <th></th>\n",
       "      <th></th>\n",
       "    </tr>\n",
       "  </thead>\n",
       "  <tbody>\n",
       "    <tr>\n",
       "      <th>Logistic Regression</th>\n",
       "      <td>34.941535</td>\n",
       "      <td>0.901797</td>\n",
       "      <td>0.217672</td>\n",
       "      <td>0.708772</td>\n",
       "      <td>0.333059</td>\n",
       "    </tr>\n",
       "    <tr>\n",
       "      <th>KNN</th>\n",
       "      <td>0.033189</td>\n",
       "      <td>0.899490</td>\n",
       "      <td>0.210129</td>\n",
       "      <td>0.672414</td>\n",
       "      <td>0.320197</td>\n",
       "    </tr>\n",
       "    <tr>\n",
       "      <th>Decision Tree</th>\n",
       "      <td>0.214260</td>\n",
       "      <td>0.899733</td>\n",
       "      <td>0.170259</td>\n",
       "      <td>0.738318</td>\n",
       "      <td>0.276708</td>\n",
       "    </tr>\n",
       "    <tr>\n",
       "      <th>SVM</th>\n",
       "      <td>659.170179</td>\n",
       "      <td>0.900218</td>\n",
       "      <td>0.179957</td>\n",
       "      <td>0.732456</td>\n",
       "      <td>0.288927</td>\n",
       "    </tr>\n",
       "  </tbody>\n",
       "</table>\n",
       "</div>"
      ],
      "text/plain": [
       "                       Fit Time  Test Accuracy  Test Recall  Test Precision  \\\n",
       "Model                                                                         \n",
       "Logistic Regression   34.941535       0.901797     0.217672        0.708772   \n",
       "KNN                    0.033189       0.899490     0.210129        0.672414   \n",
       "Decision Tree          0.214260       0.899733     0.170259        0.738318   \n",
       "SVM                  659.170179       0.900218     0.179957        0.732456   \n",
       "\n",
       "                      Test F1  \n",
       "Model                          \n",
       "Logistic Regression  0.333059  \n",
       "KNN                  0.320197  \n",
       "Decision Tree        0.276708  \n",
       "SVM                  0.288927  "
      ]
     },
     "execution_count": 68,
     "metadata": {},
     "output_type": "execute_result"
    }
   ],
   "source": [
    "print('Summary model results optimized for precision scores')\n",
    "results_df3"
   ]
  },
  {
   "cell_type": "markdown",
   "metadata": {},
   "source": [
    "#### Conclusion\n",
    "We have shown how the CRISP-DM framework can be used for the analysis of a marketing application using AI/ML methods. We illustrated how different quantitative classification methods perform in predicting customer behavior (whether customer chooses to subscribe to offered deposit or not). These methods can be instrumental in ensuring marketing campaign success.\n",
    "\n",
    "Decision Tree and SVM classifiers performed the best when models were optimized for accuracy or precision. Overall, it can be argued that SVM was the best performer for the conditions tested. The main drawback in using SVM was the long computation time compared to the other methods (KNN, LR, Decision Tree). \n",
    "\n",
    "The performance of the models was affected by a significant class imbalance in the target variable (88.7% on target entries were 0 ('no') and 11.3% were 1 ('yes')) which simple data stratification was not able to completely remove. Focused intent sampling is required to mitigate this imbalance. We will explore this technique in a future revision of this work.\n"
   ]
  },
  {
   "cell_type": "code",
   "execution_count": null,
   "metadata": {},
   "outputs": [],
   "source": []
  },
  {
   "cell_type": "markdown",
   "metadata": {},
   "source": [
    "###### Questions"
   ]
  }
 ],
 "metadata": {
  "kernelspec": {
   "display_name": "Python 3 (ipykernel)",
   "language": "python",
   "name": "python3"
  },
  "language_info": {
   "codemirror_mode": {
    "name": "ipython",
    "version": 3
   },
   "file_extension": ".py",
   "mimetype": "text/x-python",
   "name": "python",
   "nbconvert_exporter": "python",
   "pygments_lexer": "ipython3",
   "version": "3.12.3"
  },
  "widgets": {
   "application/vnd.jupyter.widget-state+json": {
    "state": {},
    "version_major": 2,
    "version_minor": 0
   }
  }
 },
 "nbformat": 4,
 "nbformat_minor": 4
}
